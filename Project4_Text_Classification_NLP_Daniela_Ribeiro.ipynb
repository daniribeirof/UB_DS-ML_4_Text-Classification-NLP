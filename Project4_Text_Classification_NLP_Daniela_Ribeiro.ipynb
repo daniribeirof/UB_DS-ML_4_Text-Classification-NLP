{
  "cells": [
    {
      "cell_type": "markdown",
      "metadata": {
        "id": "view-in-github",
        "colab_type": "text"
      },
      "source": [
        "<a href=\"https://colab.research.google.com/github/daniribeirof/UB_DS-ML_4_Text-Classification-NLP/blob/main/Project4_Text_Classification_NLP_Daniela_Ribeiro.ipynb\" target=\"_parent\"><img src=\"https://colab.research.google.com/assets/colab-badge.svg\" alt=\"Open In Colab\"/></a>"
      ]
    },
    {
      "cell_type": "markdown",
      "metadata": {
        "id": "OaiCITgELavq"
      },
      "source": [
        "# Text Classification\n"
      ]
    },
    {
      "cell_type": "markdown",
      "metadata": {
        "id": "f9OYgwEZLgnW"
      },
      "source": [
        "In this lab you are going to train several deep learning models for text classification. As you know, the goal of text classification is given a piece of text and a label, learning a model that is able to predict labels from text.\n",
        "\n",
        "Take for example a simple **Sentiment Analysis** problem. For this problem let's consider texts that belong to movie reviews. **These reviews can be classified on positive or negative**."
      ]
    },
    {
      "cell_type": "markdown",
      "source": [
        "First, we are going to import and install some of the libraries we will need."
      ],
      "metadata": {
        "id": "vhc_h6459r5Y"
      }
    },
    {
      "cell_type": "code",
      "execution_count": null,
      "metadata": {
        "id": "ubHC-DzdK8dT"
      },
      "outputs": [],
      "source": [
        "# We import the libraries that we are going to use\n",
        "import os\n",
        "import shutil\n",
        "import string\n",
        "import pandas as pd\n",
        "import numpy as np\n",
        "from bs4 import BeautifulSoup\n",
        "import spacy\n",
        "from sklearn.base import TransformerMixin\n",
        "from sklearn.pipeline import Pipeline\n",
        "from tensorflow.keras.utils import plot_model\n",
        "from tqdm.notebook import tqdm_notebook\n",
        "import time\n",
        "from sklearn import metrics\n",
        "import time"
      ]
    },
    {
      "cell_type": "code",
      "execution_count": null,
      "metadata": {
        "id": "35s4x3hoLFQH"
      },
      "outputs": [],
      "source": [
        "# workaround for solving UTF-8 error of colab\n",
        "import locale\n",
        "def getpreferredencoding(do_setlocale = True):\n",
        "    return \"UTF-8\"\n",
        "locale.getpreferredencoding = getpreferredencoding"
      ]
    },
    {
      "cell_type": "code",
      "execution_count": null,
      "metadata": {
        "id": "dWJ_qjxNSxNn",
        "colab": {
          "base_uri": "https://localhost:8080/"
        },
        "outputId": "eb5f7965-109a-4eb3-84f7-8a7544c9d22d"
      },
      "outputs": [
        {
          "output_type": "stream",
          "name": "stdout",
          "text": [
            "Looking in indexes: https://pypi.org/simple, https://us-python.pkg.dev/colab-wheels/public/simple/\n",
            "Collecting whatlies\n",
            "  Downloading whatlies-0.7.0-py2.py3-none-any.whl (84 kB)\n",
            "\u001b[2K     \u001b[90m━━━━━━━━━━━━━━━━━━━━━━━━━━━━━━━━━━━━━━━━\u001b[0m \u001b[32m84.6/84.6 kB\u001b[0m \u001b[31m3.1 MB/s\u001b[0m eta \u001b[36m0:00:00\u001b[0m\n",
            "\u001b[?25hCollecting bpemb>=0.3.0\n",
            "  Downloading bpemb-0.3.4-py3-none-any.whl (19 kB)\n",
            "Requirement already satisfied: altair>=4.2.0 in /usr/local/lib/python3.9/dist-packages (from whatlies) (4.2.2)\n",
            "Collecting gensim~=3.8.3\n",
            "  Downloading gensim-3.8.3.tar.gz (23.4 MB)\n",
            "\u001b[2K     \u001b[90m━━━━━━━━━━━━━━━━━━━━━━━━━━━━━━━━━━━━━━━━\u001b[0m \u001b[32m23.4/23.4 MB\u001b[0m \u001b[31m44.0 MB/s\u001b[0m eta \u001b[36m0:00:00\u001b[0m\n",
            "\u001b[?25h  Preparing metadata (setup.py) ... \u001b[?25l\u001b[?25hdone\n",
            "Requirement already satisfied: matplotlib>=3.5.0 in /usr/local/lib/python3.9/dist-packages (from whatlies) (3.7.1)\n",
            "Requirement already satisfied: scikit-learn>=1.0.0 in /usr/local/lib/python3.9/dist-packages (from whatlies) (1.2.2)\n",
            "Requirement already satisfied: jsonschema>=3.0 in /usr/local/lib/python3.9/dist-packages (from altair>=4.2.0->whatlies) (4.3.3)\n",
            "Requirement already satisfied: entrypoints in /usr/local/lib/python3.9/dist-packages (from altair>=4.2.0->whatlies) (0.4)\n",
            "Requirement already satisfied: jinja2 in /usr/local/lib/python3.9/dist-packages (from altair>=4.2.0->whatlies) (3.1.2)\n",
            "Requirement already satisfied: toolz in /usr/local/lib/python3.9/dist-packages (from altair>=4.2.0->whatlies) (0.12.0)\n",
            "Requirement already satisfied: pandas>=0.18 in /usr/local/lib/python3.9/dist-packages (from altair>=4.2.0->whatlies) (1.5.3)\n",
            "Requirement already satisfied: numpy in /usr/local/lib/python3.9/dist-packages (from altair>=4.2.0->whatlies) (1.22.4)\n",
            "Requirement already satisfied: tqdm in /usr/local/lib/python3.9/dist-packages (from bpemb>=0.3.0->whatlies) (4.65.0)\n",
            "Requirement already satisfied: requests in /usr/local/lib/python3.9/dist-packages (from bpemb>=0.3.0->whatlies) (2.27.1)\n",
            "Collecting sentencepiece\n",
            "  Downloading sentencepiece-0.1.98-cp39-cp39-manylinux_2_17_x86_64.manylinux2014_x86_64.whl (1.3 MB)\n",
            "\u001b[2K     \u001b[90m━━━━━━━━━━━━━━━━━━━━━━━━━━━━━━━━━━━━━━━━\u001b[0m \u001b[32m1.3/1.3 MB\u001b[0m \u001b[31m62.6 MB/s\u001b[0m eta \u001b[36m0:00:00\u001b[0m\n",
            "\u001b[?25hRequirement already satisfied: scipy>=0.18.1 in /usr/local/lib/python3.9/dist-packages (from gensim~=3.8.3->whatlies) (1.10.1)\n",
            "Requirement already satisfied: six>=1.5.0 in /usr/local/lib/python3.9/dist-packages (from gensim~=3.8.3->whatlies) (1.16.0)\n",
            "Requirement already satisfied: smart_open>=1.8.1 in /usr/local/lib/python3.9/dist-packages (from gensim~=3.8.3->whatlies) (6.3.0)\n",
            "Requirement already satisfied: pillow>=6.2.0 in /usr/local/lib/python3.9/dist-packages (from matplotlib>=3.5.0->whatlies) (8.4.0)\n",
            "Requirement already satisfied: kiwisolver>=1.0.1 in /usr/local/lib/python3.9/dist-packages (from matplotlib>=3.5.0->whatlies) (1.4.4)\n",
            "Requirement already satisfied: python-dateutil>=2.7 in /usr/local/lib/python3.9/dist-packages (from matplotlib>=3.5.0->whatlies) (2.8.2)\n",
            "Requirement already satisfied: cycler>=0.10 in /usr/local/lib/python3.9/dist-packages (from matplotlib>=3.5.0->whatlies) (0.11.0)\n",
            "Requirement already satisfied: packaging>=20.0 in /usr/local/lib/python3.9/dist-packages (from matplotlib>=3.5.0->whatlies) (23.0)\n",
            "Requirement already satisfied: fonttools>=4.22.0 in /usr/local/lib/python3.9/dist-packages (from matplotlib>=3.5.0->whatlies) (4.39.3)\n",
            "Requirement already satisfied: contourpy>=1.0.1 in /usr/local/lib/python3.9/dist-packages (from matplotlib>=3.5.0->whatlies) (1.0.7)\n",
            "Requirement already satisfied: importlib-resources>=3.2.0 in /usr/local/lib/python3.9/dist-packages (from matplotlib>=3.5.0->whatlies) (5.12.0)\n",
            "Requirement already satisfied: pyparsing>=2.3.1 in /usr/local/lib/python3.9/dist-packages (from matplotlib>=3.5.0->whatlies) (3.0.9)\n",
            "Requirement already satisfied: threadpoolctl>=2.0.0 in /usr/local/lib/python3.9/dist-packages (from scikit-learn>=1.0.0->whatlies) (3.1.0)\n",
            "Requirement already satisfied: joblib>=1.1.1 in /usr/local/lib/python3.9/dist-packages (from scikit-learn>=1.0.0->whatlies) (1.2.0)\n",
            "Requirement already satisfied: zipp>=3.1.0 in /usr/local/lib/python3.9/dist-packages (from importlib-resources>=3.2.0->matplotlib>=3.5.0->whatlies) (3.15.0)\n",
            "Requirement already satisfied: pyrsistent!=0.17.0,!=0.17.1,!=0.17.2,>=0.14.0 in /usr/local/lib/python3.9/dist-packages (from jsonschema>=3.0->altair>=4.2.0->whatlies) (0.19.3)\n",
            "Requirement already satisfied: attrs>=17.4.0 in /usr/local/lib/python3.9/dist-packages (from jsonschema>=3.0->altair>=4.2.0->whatlies) (22.2.0)\n",
            "Requirement already satisfied: pytz>=2020.1 in /usr/local/lib/python3.9/dist-packages (from pandas>=0.18->altair>=4.2.0->whatlies) (2022.7.1)\n",
            "Requirement already satisfied: MarkupSafe>=2.0 in /usr/local/lib/python3.9/dist-packages (from jinja2->altair>=4.2.0->whatlies) (2.1.2)\n",
            "Requirement already satisfied: idna<4,>=2.5 in /usr/local/lib/python3.9/dist-packages (from requests->bpemb>=0.3.0->whatlies) (3.4)\n",
            "Requirement already satisfied: certifi>=2017.4.17 in /usr/local/lib/python3.9/dist-packages (from requests->bpemb>=0.3.0->whatlies) (2022.12.7)\n",
            "Requirement already satisfied: urllib3<1.27,>=1.21.1 in /usr/local/lib/python3.9/dist-packages (from requests->bpemb>=0.3.0->whatlies) (1.26.15)\n",
            "Requirement already satisfied: charset-normalizer~=2.0.0 in /usr/local/lib/python3.9/dist-packages (from requests->bpemb>=0.3.0->whatlies) (2.0.12)\n",
            "Building wheels for collected packages: gensim\n",
            "  Building wheel for gensim (setup.py) ... \u001b[?25l\u001b[?25hdone\n",
            "  Created wheel for gensim: filename=gensim-3.8.3-cp39-cp39-linux_x86_64.whl size=26527929 sha256=304f9b0b2d0125af622cf96aff4c20c1629db8273cdea63181987f1a12c89052\n",
            "  Stored in directory: /root/.cache/pip/wheels/ca/5d/af/618594ec2f28608c1d6ee7d2b7e95a3e9b06551e3b80a491d6\n",
            "Successfully built gensim\n",
            "Installing collected packages: sentencepiece, gensim, bpemb, whatlies\n",
            "  Attempting uninstall: gensim\n",
            "    Found existing installation: gensim 4.3.1\n",
            "    Uninstalling gensim-4.3.1:\n",
            "      Successfully uninstalled gensim-4.3.1\n",
            "Successfully installed bpemb-0.3.4 gensim-3.8.3 sentencepiece-0.1.98 whatlies-0.7.0\n"
          ]
        }
      ],
      "source": [
        "# Library to make visualisation of word embeddings\n",
        "!pip install whatlies"
      ]
    },
    {
      "cell_type": "markdown",
      "metadata": {
        "id": "10KgmnIgLZFm"
      },
      "source": [
        "Here we download the language model from Spacy that we are going to use."
      ]
    },
    {
      "cell_type": "code",
      "execution_count": null,
      "metadata": {
        "id": "CRVk1QhRLHi_",
        "colab": {
          "base_uri": "https://localhost:8080/"
        },
        "outputId": "beaa10d9-c2dc-48b4-fbea-562e98f51b32"
      },
      "outputs": [
        {
          "output_type": "stream",
          "name": "stdout",
          "text": [
            "2023-04-14 16:38:52.226689: W tensorflow/compiler/tf2tensorrt/utils/py_utils.cc:38] TF-TRT Warning: Could not find TensorRT\n",
            "Looking in indexes: https://pypi.org/simple, https://us-python.pkg.dev/colab-wheels/public/simple/\n",
            "Collecting en-core-web-lg==3.5.0\n",
            "  Downloading https://github.com/explosion/spacy-models/releases/download/en_core_web_lg-3.5.0/en_core_web_lg-3.5.0-py3-none-any.whl (587.7 MB)\n",
            "\u001b[2K     \u001b[90m━━━━━━━━━━━━━━━━━━━━━━━━━━━━━━━━━━━━━━━\u001b[0m \u001b[32m587.7/587.7 MB\u001b[0m \u001b[31m2.1 MB/s\u001b[0m eta \u001b[36m0:00:00\u001b[0m\n",
            "\u001b[?25hRequirement already satisfied: spacy<3.6.0,>=3.5.0 in /usr/local/lib/python3.9/dist-packages (from en-core-web-lg==3.5.0) (3.5.1)\n",
            "Requirement already satisfied: wasabi<1.2.0,>=0.9.1 in /usr/local/lib/python3.9/dist-packages (from spacy<3.6.0,>=3.5.0->en-core-web-lg==3.5.0) (1.1.1)\n",
            "Requirement already satisfied: pathy>=0.10.0 in /usr/local/lib/python3.9/dist-packages (from spacy<3.6.0,>=3.5.0->en-core-web-lg==3.5.0) (0.10.1)\n",
            "Requirement already satisfied: smart-open<7.0.0,>=5.2.1 in /usr/local/lib/python3.9/dist-packages (from spacy<3.6.0,>=3.5.0->en-core-web-lg==3.5.0) (6.3.0)\n",
            "Requirement already satisfied: murmurhash<1.1.0,>=0.28.0 in /usr/local/lib/python3.9/dist-packages (from spacy<3.6.0,>=3.5.0->en-core-web-lg==3.5.0) (1.0.9)\n",
            "Requirement already satisfied: tqdm<5.0.0,>=4.38.0 in /usr/local/lib/python3.9/dist-packages (from spacy<3.6.0,>=3.5.0->en-core-web-lg==3.5.0) (4.65.0)\n",
            "Requirement already satisfied: jinja2 in /usr/local/lib/python3.9/dist-packages (from spacy<3.6.0,>=3.5.0->en-core-web-lg==3.5.0) (3.1.2)\n",
            "Requirement already satisfied: srsly<3.0.0,>=2.4.3 in /usr/local/lib/python3.9/dist-packages (from spacy<3.6.0,>=3.5.0->en-core-web-lg==3.5.0) (2.4.6)\n",
            "Requirement already satisfied: cymem<2.1.0,>=2.0.2 in /usr/local/lib/python3.9/dist-packages (from spacy<3.6.0,>=3.5.0->en-core-web-lg==3.5.0) (2.0.7)\n",
            "Requirement already satisfied: spacy-legacy<3.1.0,>=3.0.11 in /usr/local/lib/python3.9/dist-packages (from spacy<3.6.0,>=3.5.0->en-core-web-lg==3.5.0) (3.0.12)\n",
            "Requirement already satisfied: packaging>=20.0 in /usr/local/lib/python3.9/dist-packages (from spacy<3.6.0,>=3.5.0->en-core-web-lg==3.5.0) (23.0)\n",
            "Requirement already satisfied: setuptools in /usr/local/lib/python3.9/dist-packages (from spacy<3.6.0,>=3.5.0->en-core-web-lg==3.5.0) (67.6.1)\n",
            "Requirement already satisfied: langcodes<4.0.0,>=3.2.0 in /usr/local/lib/python3.9/dist-packages (from spacy<3.6.0,>=3.5.0->en-core-web-lg==3.5.0) (3.3.0)\n",
            "Requirement already satisfied: typer<0.8.0,>=0.3.0 in /usr/local/lib/python3.9/dist-packages (from spacy<3.6.0,>=3.5.0->en-core-web-lg==3.5.0) (0.7.0)\n",
            "Requirement already satisfied: numpy>=1.15.0 in /usr/local/lib/python3.9/dist-packages (from spacy<3.6.0,>=3.5.0->en-core-web-lg==3.5.0) (1.22.4)\n",
            "Requirement already satisfied: pydantic!=1.8,!=1.8.1,<1.11.0,>=1.7.4 in /usr/local/lib/python3.9/dist-packages (from spacy<3.6.0,>=3.5.0->en-core-web-lg==3.5.0) (1.10.7)\n",
            "Requirement already satisfied: requests<3.0.0,>=2.13.0 in /usr/local/lib/python3.9/dist-packages (from spacy<3.6.0,>=3.5.0->en-core-web-lg==3.5.0) (2.27.1)\n",
            "Requirement already satisfied: spacy-loggers<2.0.0,>=1.0.0 in /usr/local/lib/python3.9/dist-packages (from spacy<3.6.0,>=3.5.0->en-core-web-lg==3.5.0) (1.0.4)\n",
            "Requirement already satisfied: thinc<8.2.0,>=8.1.8 in /usr/local/lib/python3.9/dist-packages (from spacy<3.6.0,>=3.5.0->en-core-web-lg==3.5.0) (8.1.9)\n",
            "Requirement already satisfied: catalogue<2.1.0,>=2.0.6 in /usr/local/lib/python3.9/dist-packages (from spacy<3.6.0,>=3.5.0->en-core-web-lg==3.5.0) (2.0.8)\n",
            "Requirement already satisfied: preshed<3.1.0,>=3.0.2 in /usr/local/lib/python3.9/dist-packages (from spacy<3.6.0,>=3.5.0->en-core-web-lg==3.5.0) (3.0.8)\n",
            "Requirement already satisfied: typing-extensions>=4.2.0 in /usr/local/lib/python3.9/dist-packages (from pydantic!=1.8,!=1.8.1,<1.11.0,>=1.7.4->spacy<3.6.0,>=3.5.0->en-core-web-lg==3.5.0) (4.5.0)\n",
            "Requirement already satisfied: certifi>=2017.4.17 in /usr/local/lib/python3.9/dist-packages (from requests<3.0.0,>=2.13.0->spacy<3.6.0,>=3.5.0->en-core-web-lg==3.5.0) (2022.12.7)\n",
            "Requirement already satisfied: idna<4,>=2.5 in /usr/local/lib/python3.9/dist-packages (from requests<3.0.0,>=2.13.0->spacy<3.6.0,>=3.5.0->en-core-web-lg==3.5.0) (3.4)\n",
            "Requirement already satisfied: urllib3<1.27,>=1.21.1 in /usr/local/lib/python3.9/dist-packages (from requests<3.0.0,>=2.13.0->spacy<3.6.0,>=3.5.0->en-core-web-lg==3.5.0) (1.26.15)\n",
            "Requirement already satisfied: charset-normalizer~=2.0.0 in /usr/local/lib/python3.9/dist-packages (from requests<3.0.0,>=2.13.0->spacy<3.6.0,>=3.5.0->en-core-web-lg==3.5.0) (2.0.12)\n",
            "Requirement already satisfied: blis<0.8.0,>=0.7.8 in /usr/local/lib/python3.9/dist-packages (from thinc<8.2.0,>=8.1.8->spacy<3.6.0,>=3.5.0->en-core-web-lg==3.5.0) (0.7.9)\n",
            "Requirement already satisfied: confection<1.0.0,>=0.0.1 in /usr/local/lib/python3.9/dist-packages (from thinc<8.2.0,>=8.1.8->spacy<3.6.0,>=3.5.0->en-core-web-lg==3.5.0) (0.0.4)\n",
            "Requirement already satisfied: click<9.0.0,>=7.1.1 in /usr/local/lib/python3.9/dist-packages (from typer<0.8.0,>=0.3.0->spacy<3.6.0,>=3.5.0->en-core-web-lg==3.5.0) (8.1.3)\n",
            "Requirement already satisfied: MarkupSafe>=2.0 in /usr/local/lib/python3.9/dist-packages (from jinja2->spacy<3.6.0,>=3.5.0->en-core-web-lg==3.5.0) (2.1.2)\n",
            "Installing collected packages: en-core-web-lg\n",
            "Successfully installed en-core-web-lg-3.5.0\n",
            "\u001b[38;5;2m✔ Download and installation successful\u001b[0m\n",
            "You can now load the package via spacy.load('en_core_web_lg')\n"
          ]
        }
      ],
      "source": [
        "# Mind the ! sign at the beginning of the command that indicates that it belongs to a command line call.\n",
        "! python -m spacy download en_core_web_lg #en=english"
      ]
    },
    {
      "cell_type": "markdown",
      "metadata": {
        "id": "-Ocbw5zjU18E"
      },
      "source": [
        "## Dataset"
      ]
    },
    {
      "cell_type": "markdown",
      "source": [
        "We download the IMDB dataset from the web page with the `wget` command line tool. The IMDB dataset includes 50K movie reviews for natural language processing or text analytics. This is a dataset for binary sentiment classification, which includes a set of 25,000 movie reviews for training and 25,000 for testing."
      ],
      "metadata": {
        "id": "uKpKiFsF-KbM"
      }
    },
    {
      "cell_type": "code",
      "execution_count": null,
      "metadata": {
        "id": "hkM7RhX2L6x8",
        "colab": {
          "base_uri": "https://localhost:8080/"
        },
        "outputId": "7d96cded-2cfd-4c0e-9930-9323f83c6628"
      },
      "outputs": [
        {
          "output_type": "stream",
          "name": "stdout",
          "text": [
            "--2023-04-14 16:39:30--  https://ai.stanford.edu/~amaas/data/sentiment/aclImdb_v1.tar.gz\n",
            "Resolving ai.stanford.edu (ai.stanford.edu)... 171.64.68.10\n",
            "Connecting to ai.stanford.edu (ai.stanford.edu)|171.64.68.10|:443... connected.\n",
            "HTTP request sent, awaiting response... 200 OK\n",
            "Length: 84125825 (80M) [application/x-gzip]\n",
            "Saving to: ‘aclImdb_v1.tar.gz’\n",
            "\n",
            "aclImdb_v1.tar.gz   100%[===================>]  80.23M  35.2MB/s    in 2.3s    \n",
            "\n",
            "2023-04-14 16:39:33 (35.2 MB/s) - ‘aclImdb_v1.tar.gz’ saved [84125825/84125825]\n",
            "\n",
            "imdbEr.txt  imdb.vocab\tREADME\ttest  train\n"
          ]
        }
      ],
      "source": [
        "!wget https://ai.stanford.edu/~amaas/data/sentiment/aclImdb_v1.tar.gz\n",
        "!tar xzf aclImdb_v1.tar.gz\n",
        "!ls aclImdb/\n",
        "\n",
        "# remove unnecessary files from the dataset\n",
        "shutil.rmtree('aclImdb/train/unsup')"
      ]
    },
    {
      "cell_type": "markdown",
      "metadata": {
        "id": "slD09Gm-LpUR"
      },
      "source": [
        "### Data Preprocessing"
      ]
    },
    {
      "cell_type": "markdown",
      "source": [
        "We load a pre-trained language model for the English language. Specifically, the `\"en_core_web_lg\"` model is being loaded, which is a large-sized language model trained on web text."
      ],
      "metadata": {
        "id": "lDFDVNWjdHpC"
      }
    },
    {
      "cell_type": "code",
      "execution_count": null,
      "metadata": {
        "id": "s-CbMgCwLsgY"
      },
      "outputs": [],
      "source": [
        "# Load Spacy language model\n",
        "nlp = spacy.load(\"en_core_web_lg\")"
      ]
    },
    {
      "cell_type": "markdown",
      "source": [
        "We define our preprocessing functions for removing HTML codes, converting to lowercase, lemmatizing, and removing stop words and punctuation."
      ],
      "metadata": {
        "id": "UBe-ivRu-l5x"
      }
    },
    {
      "cell_type": "code",
      "execution_count": null,
      "metadata": {
        "id": "ia7SNJRPVbwd"
      },
      "outputs": [],
      "source": [
        "# Creating our tokenizer function\n",
        "def spacy_tokenizer(doc, texts, file_names, label, i):\n",
        "    \"\"\"\n",
        "    Lemmatize each token\n",
        "    Convert each token into lowercase\n",
        "    Remove stop words\n",
        "    Modify integer numbers into word 'number'\n",
        "    Store word vectors\n",
        "    \"\"\"\n",
        "    clean_tokens=[]\n",
        "    vectors=[]\n",
        "\n",
        "    for word in doc:\n",
        "\n",
        "      if word.like_num:\n",
        "        lemma='number'\n",
        "        clean_tokens.append(lemma)\n",
        "        #store vectors\n",
        "        vectors.append(word.vector)\n",
        "\n",
        "      elif not word.is_punct and not word.is_stop and len(str(word)) > 1:\n",
        "        lemma = word.lemma_.lower()\n",
        "        clean_tokens.append(lemma)\n",
        "        vectors.append(word.vector)\n",
        "\n",
        "    file_data = {\n",
        "        \"file_name\": file_names[i],\n",
        "        \"label\": label,\n",
        "        \"text\": texts[i],\n",
        "        \"clean_tokens\": clean_tokens,\n",
        "        \"vectors\": vectors,\n",
        "        \"mean_vector\": np.mean(vectors, axis=0)\n",
        "    }\n",
        "\n",
        "    return file_data\n"
      ]
    },
    {
      "cell_type": "code",
      "execution_count": null,
      "metadata": {
        "id": "niQv9ZEFW6uJ"
      },
      "outputs": [],
      "source": [
        "def read_file(filename, label, reviews_dir):\n",
        "  \"\"\"\n",
        "  read file and remove HTML tags\n",
        "  \"\"\"\n",
        "  with open(os.path.join(reviews_dir, filename), 'r', encoding='UTF-8') as f:\n",
        "    text = f.read()\n",
        "    tags_del = BeautifulSoup(text, \"lxml\").get_text()\n",
        "\n",
        "  return tags_del"
      ]
    },
    {
      "cell_type": "code",
      "execution_count": null,
      "metadata": {
        "id": "Oa_ZW0lhVY79"
      },
      "outputs": [],
      "source": [
        "def load_data(is_train, is_neg = True, max_files=None):\n",
        "  \"\"\"\n",
        "  Input arguments: is_train (boolean), is_neg (optional boolean, default value\n",
        "  is True), max_files (integer)\n",
        "  Output: A list of dictionaries, where each dictionary contains information\n",
        "  about a single review.\n",
        "\n",
        "  The function reads all files in the specified directory, preprocesses the text\n",
        "  by removing HTML tags, converting to lowercase, lemmatizing, and removing stop\n",
        "  words and punctuation. It then creates a dictionary for each review, which\n",
        "  contains the file name, label (0 for negative reviews, 1 for positive reviews),\n",
        "  original text, and preprocessed tokens. The function returns a list of these\n",
        "  dictionaries.\n",
        "  \"\"\"\n",
        "  start_time = time.time()\n",
        "\n",
        "  if is_train:\n",
        "      base_dir = 'aclImdb/train'\n",
        "  else:\n",
        "      base_dir = 'aclImdb/test'\n",
        "  if is_neg:\n",
        "      subdir = 'neg'\n",
        "      label = 0\n",
        "  else:\n",
        "      subdir = 'pos'\n",
        "      label = 1\n",
        "\n",
        "  reviews_dir = os.path.join(base_dir,subdir)\n",
        "  file_names = sorted(os.listdir(reviews_dir))\n",
        "\n",
        "  if max_files is not None:\n",
        "      file_names = file_names[:max_files]\n",
        "\n",
        "  texts = [read_file(filename, label, reviews_dir) for filename in file_names]\n",
        "  # Spacy NLP\n",
        "  docs = list(nlp.pipe(texts, disable=[\"parser\", \"ner\", \"senter\"]))\n",
        "  reviews = [spacy_tokenizer(doc, texts, file_names, label, i) for i,doc in enumerate(docs)]\n",
        "\n",
        "  print(\"Load data time: %s min\" % (round((time.time() - start_time) / 60, 3)))\n",
        "  return reviews"
      ]
    },
    {
      "cell_type": "markdown",
      "source": [
        "We are going to get 12,000 training files and 4,000 testing files to reduce computation time."
      ],
      "metadata": {
        "id": "J0I99-QY_CEF"
      }
    },
    {
      "cell_type": "code",
      "source": [
        "# Loading data, pacience this takes time\n",
        "train_neg_reviews = load_data(is_train=True, max_files = 6000)\n",
        "train_pos_reviews = load_data(is_train=True, is_neg=False, max_files = 6000)\n",
        "test_neg_reviews = load_data(is_train=False, max_files = 2000)\n",
        "test_pos_reviews = load_data(is_train=False, is_neg=False, max_files = 2000)"
      ],
      "metadata": {
        "id": "oBch6JF5hc7x",
        "colab": {
          "base_uri": "https://localhost:8080/"
        },
        "outputId": "fd79e3c3-24cc-4b23-f8b1-c7de1f34e1b4"
      },
      "execution_count": null,
      "outputs": [
        {
          "output_type": "stream",
          "name": "stderr",
          "text": [
            "<ipython-input-8-286ad7b4e1d1>:7: MarkupResemblesLocatorWarning: The input looks more like a filename than markup. You may want to open this file and pass the filehandle into Beautiful Soup.\n",
            "  tags_del = BeautifulSoup(text, \"lxml\").get_text()\n"
          ]
        },
        {
          "output_type": "stream",
          "name": "stdout",
          "text": [
            "Load data time: 2.011 min\n",
            "Load data time: 1.7 min\n",
            "Load data time: 0.52 min\n",
            "Load data time: 0.518 min\n"
          ]
        }
      ]
    },
    {
      "cell_type": "markdown",
      "source": [
        "Let's check that the preprocessing is properly done and build DataFrames"
      ],
      "metadata": {
        "id": "WfrDnuUm_mGm"
      }
    },
    {
      "cell_type": "code",
      "source": [
        "# Show text\n",
        "train_neg_reviews[0]['text']"
      ],
      "metadata": {
        "id": "TewBDKvc_fIb",
        "colab": {
          "base_uri": "https://localhost:8080/",
          "height": 70
        },
        "outputId": "fd6a4288-03ac-41f7-9291-ef1cbc8bf57c"
      },
      "execution_count": null,
      "outputs": [
        {
          "output_type": "execute_result",
          "data": {
            "text/plain": [
              "\"Story of a man who has unnatural feelings for a pig. Starts out with a opening scene that is a terrific example of absurd comedy. A formal orchestra audience is turned into an insane, violent mob by the crazy chantings of it's singers. Unfortunately it stays absurd the WHOLE time with no general narrative eventually making it just too off putting. Even those from the era should be turned off. The cryptic dialogue would make Shakespeare seem easy to a third grader. On a technical level it's better than you might think with some good cinematography by future great Vilmos Zsigmond. Future stars Sally Kirkland and Frederic Forrest can be seen briefly.\""
            ],
            "application/vnd.google.colaboratory.intrinsic+json": {
              "type": "string"
            }
          },
          "metadata": {},
          "execution_count": 11
        }
      ]
    },
    {
      "cell_type": "code",
      "execution_count": null,
      "metadata": {
        "id": "pUhWMAjHZ0oM",
        "colab": {
          "base_uri": "https://localhost:8080/",
          "height": 53
        },
        "outputId": "d55afecd-16ae-4b92-c9e1-da3f12714085"
      },
      "outputs": [
        {
          "output_type": "execute_result",
          "data": {
            "text/plain": [
              "'story man unnatural feeling pig start opening scene terrific example absurd comedy formal orchestra audience turn insane violent mob crazy chanting singer unfortunately stay absurd time general narrative eventually make putting era turn cryptic dialogue shakespeare easy number grader technical level well think good cinematography future great vilmos zsigmond future star sally kirkland frederic forrest see briefly'"
            ],
            "application/vnd.google.colaboratory.intrinsic+json": {
              "type": "string"
            }
          },
          "metadata": {},
          "execution_count": 12
        }
      ],
      "source": [
        "# Show clean tokens\n",
        "' '.join(train_neg_reviews[0]['clean_tokens'])"
      ]
    },
    {
      "cell_type": "code",
      "execution_count": null,
      "metadata": {
        "id": "caF0Z6HAj8FR"
      },
      "outputs": [],
      "source": [
        "# Build DataFrames for training and testing\n",
        "train_data = pd.DataFrame(train_pos_reviews+train_neg_reviews).sample(frac = 1)\n",
        "test_data = pd.DataFrame(test_pos_reviews+test_neg_reviews).sample(frac = 1)"
      ]
    },
    {
      "cell_type": "code",
      "execution_count": null,
      "metadata": {
        "id": "wAtWZ-tnrlfq"
      },
      "outputs": [],
      "source": [
        "# Add clean_tokens as a string\n",
        "train_data['clean_texts'] = train_data.apply(lambda row: ' '.join(row['clean_tokens']), axis=1)\n",
        "test_data['clean_texts'] = test_data.apply(lambda row: ' '.join(row['clean_tokens']), axis=1)"
      ]
    },
    {
      "cell_type": "code",
      "execution_count": null,
      "metadata": {
        "id": "2x76cqvij-1S",
        "colab": {
          "base_uri": "https://localhost:8080/",
          "height": 320
        },
        "outputId": "7af081ec-8d58-466a-c55a-702863df9b8d"
      },
      "outputs": [
        {
          "output_type": "execute_result",
          "data": {
            "text/plain": [
              "        file_name  label                                               text  \\\n",
              "5346   3562_8.txt      1  Nathan Detroit (Frank Sinatra) is the manager ...   \n",
              "9290   1711_2.txt      0  Well, I bought the Zombie Bloodbath trilogy th...   \n",
              "380   10342_7.txt      1  Melvyn Douglas once more gives a polished perf...   \n",
              "1289  11160_9.txt      1  This is truly the greatest Swedish movie of al...   \n",
              "236   10212_8.txt      1  This entire movie is worth watching just for t...   \n",
              "\n",
              "                                           clean_tokens  \\\n",
              "5346  [nathan, detroit, frank, sinatra, manager, new...   \n",
              "9290  [buy, zombie, bloodbath, trilogy, think, mindl...   \n",
              "380   [melvyn, douglas, give, polished, performance,...   \n",
              "1289  [truly, great, swedish, movie, time, revolutio...   \n",
              "236   [entire, movie, worth, watch, magnificent, fin...   \n",
              "\n",
              "                                                vectors  \\\n",
              "5346  [[-4.4148, -0.61427, 0.52759, -0.13735, 0.4380...   \n",
              "9290  [[-5.9193, -5.2458, -1.5078, -2.8861, 1.7748, ...   \n",
              "380   [[-0.82307, -1.3011, -0.76014, 0.42419, -1.434...   \n",
              "1289  [[1.2371, 1.5571, -1.8705, -6.3378, 0.58813, 2...   \n",
              "236   [[-1.2055, 3.169, -5.2077, -1.3239, 5.2867, 2....   \n",
              "\n",
              "                                            mean_vector  \\\n",
              "5346  [-0.9029522, 0.17158505, -0.76076305, -0.19262...   \n",
              "9290  [-0.9425609, 0.3644767, -1.9698448, -1.9035343...   \n",
              "380   [-1.0316564, -0.032934573, -0.74879986, -0.997...   \n",
              "1289  [-1.4453084, -0.14645484, 0.048873343, -1.1698...   \n",
              "236   [-0.1966622, -0.0893595, -2.2956548, -2.372166...   \n",
              "\n",
              "                                            clean_texts  \n",
              "5346  nathan detroit frank sinatra manager new york ...  \n",
              "9290  buy zombie bloodbath trilogy think mindless go...  \n",
              "380   melvyn douglas give polished performance time ...  \n",
              "1289  truly great swedish movie time revolutionary n...  \n",
              "236   entire movie worth watch magnificent final mom...  "
            ],
            "text/html": [
              "\n",
              "  <div id=\"df-89c9c22f-4d0e-43cd-b1f6-9f1af816917e\">\n",
              "    <div class=\"colab-df-container\">\n",
              "      <div>\n",
              "<style scoped>\n",
              "    .dataframe tbody tr th:only-of-type {\n",
              "        vertical-align: middle;\n",
              "    }\n",
              "\n",
              "    .dataframe tbody tr th {\n",
              "        vertical-align: top;\n",
              "    }\n",
              "\n",
              "    .dataframe thead th {\n",
              "        text-align: right;\n",
              "    }\n",
              "</style>\n",
              "<table border=\"1\" class=\"dataframe\">\n",
              "  <thead>\n",
              "    <tr style=\"text-align: right;\">\n",
              "      <th></th>\n",
              "      <th>file_name</th>\n",
              "      <th>label</th>\n",
              "      <th>text</th>\n",
              "      <th>clean_tokens</th>\n",
              "      <th>vectors</th>\n",
              "      <th>mean_vector</th>\n",
              "      <th>clean_texts</th>\n",
              "    </tr>\n",
              "  </thead>\n",
              "  <tbody>\n",
              "    <tr>\n",
              "      <th>5346</th>\n",
              "      <td>3562_8.txt</td>\n",
              "      <td>1</td>\n",
              "      <td>Nathan Detroit (Frank Sinatra) is the manager ...</td>\n",
              "      <td>[nathan, detroit, frank, sinatra, manager, new...</td>\n",
              "      <td>[[-4.4148, -0.61427, 0.52759, -0.13735, 0.4380...</td>\n",
              "      <td>[-0.9029522, 0.17158505, -0.76076305, -0.19262...</td>\n",
              "      <td>nathan detroit frank sinatra manager new york ...</td>\n",
              "    </tr>\n",
              "    <tr>\n",
              "      <th>9290</th>\n",
              "      <td>1711_2.txt</td>\n",
              "      <td>0</td>\n",
              "      <td>Well, I bought the Zombie Bloodbath trilogy th...</td>\n",
              "      <td>[buy, zombie, bloodbath, trilogy, think, mindl...</td>\n",
              "      <td>[[-5.9193, -5.2458, -1.5078, -2.8861, 1.7748, ...</td>\n",
              "      <td>[-0.9425609, 0.3644767, -1.9698448, -1.9035343...</td>\n",
              "      <td>buy zombie bloodbath trilogy think mindless go...</td>\n",
              "    </tr>\n",
              "    <tr>\n",
              "      <th>380</th>\n",
              "      <td>10342_7.txt</td>\n",
              "      <td>1</td>\n",
              "      <td>Melvyn Douglas once more gives a polished perf...</td>\n",
              "      <td>[melvyn, douglas, give, polished, performance,...</td>\n",
              "      <td>[[-0.82307, -1.3011, -0.76014, 0.42419, -1.434...</td>\n",
              "      <td>[-1.0316564, -0.032934573, -0.74879986, -0.997...</td>\n",
              "      <td>melvyn douglas give polished performance time ...</td>\n",
              "    </tr>\n",
              "    <tr>\n",
              "      <th>1289</th>\n",
              "      <td>11160_9.txt</td>\n",
              "      <td>1</td>\n",
              "      <td>This is truly the greatest Swedish movie of al...</td>\n",
              "      <td>[truly, great, swedish, movie, time, revolutio...</td>\n",
              "      <td>[[1.2371, 1.5571, -1.8705, -6.3378, 0.58813, 2...</td>\n",
              "      <td>[-1.4453084, -0.14645484, 0.048873343, -1.1698...</td>\n",
              "      <td>truly great swedish movie time revolutionary n...</td>\n",
              "    </tr>\n",
              "    <tr>\n",
              "      <th>236</th>\n",
              "      <td>10212_8.txt</td>\n",
              "      <td>1</td>\n",
              "      <td>This entire movie is worth watching just for t...</td>\n",
              "      <td>[entire, movie, worth, watch, magnificent, fin...</td>\n",
              "      <td>[[-1.2055, 3.169, -5.2077, -1.3239, 5.2867, 2....</td>\n",
              "      <td>[-0.1966622, -0.0893595, -2.2956548, -2.372166...</td>\n",
              "      <td>entire movie worth watch magnificent final mom...</td>\n",
              "    </tr>\n",
              "  </tbody>\n",
              "</table>\n",
              "</div>\n",
              "      <button class=\"colab-df-convert\" onclick=\"convertToInteractive('df-89c9c22f-4d0e-43cd-b1f6-9f1af816917e')\"\n",
              "              title=\"Convert this dataframe to an interactive table.\"\n",
              "              style=\"display:none;\">\n",
              "        \n",
              "  <svg xmlns=\"http://www.w3.org/2000/svg\" height=\"24px\"viewBox=\"0 0 24 24\"\n",
              "       width=\"24px\">\n",
              "    <path d=\"M0 0h24v24H0V0z\" fill=\"none\"/>\n",
              "    <path d=\"M18.56 5.44l.94 2.06.94-2.06 2.06-.94-2.06-.94-.94-2.06-.94 2.06-2.06.94zm-11 1L8.5 8.5l.94-2.06 2.06-.94-2.06-.94L8.5 2.5l-.94 2.06-2.06.94zm10 10l.94 2.06.94-2.06 2.06-.94-2.06-.94-.94-2.06-.94 2.06-2.06.94z\"/><path d=\"M17.41 7.96l-1.37-1.37c-.4-.4-.92-.59-1.43-.59-.52 0-1.04.2-1.43.59L10.3 9.45l-7.72 7.72c-.78.78-.78 2.05 0 2.83L4 21.41c.39.39.9.59 1.41.59.51 0 1.02-.2 1.41-.59l7.78-7.78 2.81-2.81c.8-.78.8-2.07 0-2.86zM5.41 20L4 18.59l7.72-7.72 1.47 1.35L5.41 20z\"/>\n",
              "  </svg>\n",
              "      </button>\n",
              "      \n",
              "  <style>\n",
              "    .colab-df-container {\n",
              "      display:flex;\n",
              "      flex-wrap:wrap;\n",
              "      gap: 12px;\n",
              "    }\n",
              "\n",
              "    .colab-df-convert {\n",
              "      background-color: #E8F0FE;\n",
              "      border: none;\n",
              "      border-radius: 50%;\n",
              "      cursor: pointer;\n",
              "      display: none;\n",
              "      fill: #1967D2;\n",
              "      height: 32px;\n",
              "      padding: 0 0 0 0;\n",
              "      width: 32px;\n",
              "    }\n",
              "\n",
              "    .colab-df-convert:hover {\n",
              "      background-color: #E2EBFA;\n",
              "      box-shadow: 0px 1px 2px rgba(60, 64, 67, 0.3), 0px 1px 3px 1px rgba(60, 64, 67, 0.15);\n",
              "      fill: #174EA6;\n",
              "    }\n",
              "\n",
              "    [theme=dark] .colab-df-convert {\n",
              "      background-color: #3B4455;\n",
              "      fill: #D2E3FC;\n",
              "    }\n",
              "\n",
              "    [theme=dark] .colab-df-convert:hover {\n",
              "      background-color: #434B5C;\n",
              "      box-shadow: 0px 1px 3px 1px rgba(0, 0, 0, 0.15);\n",
              "      filter: drop-shadow(0px 1px 2px rgba(0, 0, 0, 0.3));\n",
              "      fill: #FFFFFF;\n",
              "    }\n",
              "  </style>\n",
              "\n",
              "      <script>\n",
              "        const buttonEl =\n",
              "          document.querySelector('#df-89c9c22f-4d0e-43cd-b1f6-9f1af816917e button.colab-df-convert');\n",
              "        buttonEl.style.display =\n",
              "          google.colab.kernel.accessAllowed ? 'block' : 'none';\n",
              "\n",
              "        async function convertToInteractive(key) {\n",
              "          const element = document.querySelector('#df-89c9c22f-4d0e-43cd-b1f6-9f1af816917e');\n",
              "          const dataTable =\n",
              "            await google.colab.kernel.invokeFunction('convertToInteractive',\n",
              "                                                     [key], {});\n",
              "          if (!dataTable) return;\n",
              "\n",
              "          const docLinkHtml = 'Like what you see? Visit the ' +\n",
              "            '<a target=\"_blank\" href=https://colab.research.google.com/notebooks/data_table.ipynb>data table notebook</a>'\n",
              "            + ' to learn more about interactive tables.';\n",
              "          element.innerHTML = '';\n",
              "          dataTable['output_type'] = 'display_data';\n",
              "          await google.colab.output.renderOutput(dataTable, element);\n",
              "          const docLink = document.createElement('div');\n",
              "          docLink.innerHTML = docLinkHtml;\n",
              "          element.appendChild(docLink);\n",
              "        }\n",
              "      </script>\n",
              "    </div>\n",
              "  </div>\n",
              "  "
            ]
          },
          "metadata": {},
          "execution_count": 15
        }
      ],
      "source": [
        "train_data.head()"
      ]
    },
    {
      "cell_type": "code",
      "execution_count": null,
      "metadata": {
        "id": "W-b5FN4M3M7q",
        "colab": {
          "base_uri": "https://localhost:8080/"
        },
        "outputId": "b6c7e3e3-0b2e-432e-c1b8-c3e388455f96"
      },
      "outputs": [
        {
          "output_type": "execute_result",
          "data": {
            "text/plain": [
              "12000"
            ]
          },
          "metadata": {},
          "execution_count": 16
        }
      ],
      "source": [
        "len(train_data)"
      ]
    },
    {
      "cell_type": "code",
      "execution_count": null,
      "metadata": {
        "id": "ZL6NCWbj5ypX",
        "colab": {
          "base_uri": "https://localhost:8080/",
          "height": 337
        },
        "outputId": "05386795-400f-4d84-9ab5-dff47bb1cab5"
      },
      "outputs": [
        {
          "output_type": "execute_result",
          "data": {
            "text/plain": [
              "         file_name  label                                               text  \\\n",
              "1484   11336_9.txt      1  Having seen many of Wong Kar-Wai's other movie...   \n",
              "709   10639_10.txt      1  Some users are confused about the identity of ...   \n",
              "3258   11132_1.txt      0  Great concept, perfect characterizations and v...   \n",
              "904    10814_9.txt      1  [Minor spoilers follow]Steve Allen opined that...   \n",
              "2896   10807_3.txt      0  Now I did watch this when it first came out on...   \n",
              "\n",
              "                                           clean_tokens  \\\n",
              "1484  [have, see, wong, kar, wai, movie, happy, fall...   \n",
              "709   [user, confuse, identity, armed, man, walk, st...   \n",
              "3258  [great, concept, perfect, characterization, vo...   \n",
              "904   [minor, spoiler, follow]steve, allen, opine, t...   \n",
              "2896  [watch, number, come, vhs, friend, think, pret...   \n",
              "\n",
              "                                                vectors  \\\n",
              "1484  [[-0.35697, -0.082145, -4.5985, -0.53532, -0.2...   \n",
              "709   [[1.1962, 4.3755, -0.90933, 1.7603, 6.7734, -1...   \n",
              "3258  [[-2.9475, -4.2265, -1.8378, 0.2473, 6.9306, -...   \n",
              "904   [[-1.2751, -2.5127, 4.6858, -0.62559, 0.94829,...   \n",
              "2896  [[0.59802, 3.9673, -3.2261, -1.7373, -2.0996, ...   \n",
              "\n",
              "                                            mean_vector  \\\n",
              "1484  [-0.70409024, 0.24315736, -1.4258134, -1.10712...   \n",
              "709   [-1.6684848, 0.8825288, -0.972044, 0.57941514,...   \n",
              "3258  [0.026165329, 0.12780207, -1.1765755, -0.49263...   \n",
              "904   [-0.9389185, -0.11174787, -0.7890173, -0.46236...   \n",
              "2896  [-0.90693724, 0.47368473, -1.4073341, -1.28625...   \n",
              "\n",
              "                                            clean_texts  \n",
              "1484  have see wong kar wai movie happy fallen angel...  \n",
              "709   user confuse identity armed man walk step odes...  \n",
              "3258  great concept perfect characterization voice c...  \n",
              "904   minor spoiler follow]steve allen opine topical...  \n",
              "2896  watch number come vhs friend think pretty good...  "
            ],
            "text/html": [
              "\n",
              "  <div id=\"df-a91cae72-c908-4fac-b81c-388bb7b6e5bc\">\n",
              "    <div class=\"colab-df-container\">\n",
              "      <div>\n",
              "<style scoped>\n",
              "    .dataframe tbody tr th:only-of-type {\n",
              "        vertical-align: middle;\n",
              "    }\n",
              "\n",
              "    .dataframe tbody tr th {\n",
              "        vertical-align: top;\n",
              "    }\n",
              "\n",
              "    .dataframe thead th {\n",
              "        text-align: right;\n",
              "    }\n",
              "</style>\n",
              "<table border=\"1\" class=\"dataframe\">\n",
              "  <thead>\n",
              "    <tr style=\"text-align: right;\">\n",
              "      <th></th>\n",
              "      <th>file_name</th>\n",
              "      <th>label</th>\n",
              "      <th>text</th>\n",
              "      <th>clean_tokens</th>\n",
              "      <th>vectors</th>\n",
              "      <th>mean_vector</th>\n",
              "      <th>clean_texts</th>\n",
              "    </tr>\n",
              "  </thead>\n",
              "  <tbody>\n",
              "    <tr>\n",
              "      <th>1484</th>\n",
              "      <td>11336_9.txt</td>\n",
              "      <td>1</td>\n",
              "      <td>Having seen many of Wong Kar-Wai's other movie...</td>\n",
              "      <td>[have, see, wong, kar, wai, movie, happy, fall...</td>\n",
              "      <td>[[-0.35697, -0.082145, -4.5985, -0.53532, -0.2...</td>\n",
              "      <td>[-0.70409024, 0.24315736, -1.4258134, -1.10712...</td>\n",
              "      <td>have see wong kar wai movie happy fallen angel...</td>\n",
              "    </tr>\n",
              "    <tr>\n",
              "      <th>709</th>\n",
              "      <td>10639_10.txt</td>\n",
              "      <td>1</td>\n",
              "      <td>Some users are confused about the identity of ...</td>\n",
              "      <td>[user, confuse, identity, armed, man, walk, st...</td>\n",
              "      <td>[[1.1962, 4.3755, -0.90933, 1.7603, 6.7734, -1...</td>\n",
              "      <td>[-1.6684848, 0.8825288, -0.972044, 0.57941514,...</td>\n",
              "      <td>user confuse identity armed man walk step odes...</td>\n",
              "    </tr>\n",
              "    <tr>\n",
              "      <th>3258</th>\n",
              "      <td>11132_1.txt</td>\n",
              "      <td>0</td>\n",
              "      <td>Great concept, perfect characterizations and v...</td>\n",
              "      <td>[great, concept, perfect, characterization, vo...</td>\n",
              "      <td>[[-2.9475, -4.2265, -1.8378, 0.2473, 6.9306, -...</td>\n",
              "      <td>[0.026165329, 0.12780207, -1.1765755, -0.49263...</td>\n",
              "      <td>great concept perfect characterization voice c...</td>\n",
              "    </tr>\n",
              "    <tr>\n",
              "      <th>904</th>\n",
              "      <td>10814_9.txt</td>\n",
              "      <td>1</td>\n",
              "      <td>[Minor spoilers follow]Steve Allen opined that...</td>\n",
              "      <td>[minor, spoiler, follow]steve, allen, opine, t...</td>\n",
              "      <td>[[-1.2751, -2.5127, 4.6858, -0.62559, 0.94829,...</td>\n",
              "      <td>[-0.9389185, -0.11174787, -0.7890173, -0.46236...</td>\n",
              "      <td>minor spoiler follow]steve allen opine topical...</td>\n",
              "    </tr>\n",
              "    <tr>\n",
              "      <th>2896</th>\n",
              "      <td>10807_3.txt</td>\n",
              "      <td>0</td>\n",
              "      <td>Now I did watch this when it first came out on...</td>\n",
              "      <td>[watch, number, come, vhs, friend, think, pret...</td>\n",
              "      <td>[[0.59802, 3.9673, -3.2261, -1.7373, -2.0996, ...</td>\n",
              "      <td>[-0.90693724, 0.47368473, -1.4073341, -1.28625...</td>\n",
              "      <td>watch number come vhs friend think pretty good...</td>\n",
              "    </tr>\n",
              "  </tbody>\n",
              "</table>\n",
              "</div>\n",
              "      <button class=\"colab-df-convert\" onclick=\"convertToInteractive('df-a91cae72-c908-4fac-b81c-388bb7b6e5bc')\"\n",
              "              title=\"Convert this dataframe to an interactive table.\"\n",
              "              style=\"display:none;\">\n",
              "        \n",
              "  <svg xmlns=\"http://www.w3.org/2000/svg\" height=\"24px\"viewBox=\"0 0 24 24\"\n",
              "       width=\"24px\">\n",
              "    <path d=\"M0 0h24v24H0V0z\" fill=\"none\"/>\n",
              "    <path d=\"M18.56 5.44l.94 2.06.94-2.06 2.06-.94-2.06-.94-.94-2.06-.94 2.06-2.06.94zm-11 1L8.5 8.5l.94-2.06 2.06-.94-2.06-.94L8.5 2.5l-.94 2.06-2.06.94zm10 10l.94 2.06.94-2.06 2.06-.94-2.06-.94-.94-2.06-.94 2.06-2.06.94z\"/><path d=\"M17.41 7.96l-1.37-1.37c-.4-.4-.92-.59-1.43-.59-.52 0-1.04.2-1.43.59L10.3 9.45l-7.72 7.72c-.78.78-.78 2.05 0 2.83L4 21.41c.39.39.9.59 1.41.59.51 0 1.02-.2 1.41-.59l7.78-7.78 2.81-2.81c.8-.78.8-2.07 0-2.86zM5.41 20L4 18.59l7.72-7.72 1.47 1.35L5.41 20z\"/>\n",
              "  </svg>\n",
              "      </button>\n",
              "      \n",
              "  <style>\n",
              "    .colab-df-container {\n",
              "      display:flex;\n",
              "      flex-wrap:wrap;\n",
              "      gap: 12px;\n",
              "    }\n",
              "\n",
              "    .colab-df-convert {\n",
              "      background-color: #E8F0FE;\n",
              "      border: none;\n",
              "      border-radius: 50%;\n",
              "      cursor: pointer;\n",
              "      display: none;\n",
              "      fill: #1967D2;\n",
              "      height: 32px;\n",
              "      padding: 0 0 0 0;\n",
              "      width: 32px;\n",
              "    }\n",
              "\n",
              "    .colab-df-convert:hover {\n",
              "      background-color: #E2EBFA;\n",
              "      box-shadow: 0px 1px 2px rgba(60, 64, 67, 0.3), 0px 1px 3px 1px rgba(60, 64, 67, 0.15);\n",
              "      fill: #174EA6;\n",
              "    }\n",
              "\n",
              "    [theme=dark] .colab-df-convert {\n",
              "      background-color: #3B4455;\n",
              "      fill: #D2E3FC;\n",
              "    }\n",
              "\n",
              "    [theme=dark] .colab-df-convert:hover {\n",
              "      background-color: #434B5C;\n",
              "      box-shadow: 0px 1px 3px 1px rgba(0, 0, 0, 0.15);\n",
              "      filter: drop-shadow(0px 1px 2px rgba(0, 0, 0, 0.3));\n",
              "      fill: #FFFFFF;\n",
              "    }\n",
              "  </style>\n",
              "\n",
              "      <script>\n",
              "        const buttonEl =\n",
              "          document.querySelector('#df-a91cae72-c908-4fac-b81c-388bb7b6e5bc button.colab-df-convert');\n",
              "        buttonEl.style.display =\n",
              "          google.colab.kernel.accessAllowed ? 'block' : 'none';\n",
              "\n",
              "        async function convertToInteractive(key) {\n",
              "          const element = document.querySelector('#df-a91cae72-c908-4fac-b81c-388bb7b6e5bc');\n",
              "          const dataTable =\n",
              "            await google.colab.kernel.invokeFunction('convertToInteractive',\n",
              "                                                     [key], {});\n",
              "          if (!dataTable) return;\n",
              "\n",
              "          const docLinkHtml = 'Like what you see? Visit the ' +\n",
              "            '<a target=\"_blank\" href=https://colab.research.google.com/notebooks/data_table.ipynb>data table notebook</a>'\n",
              "            + ' to learn more about interactive tables.';\n",
              "          element.innerHTML = '';\n",
              "          dataTable['output_type'] = 'display_data';\n",
              "          await google.colab.output.renderOutput(dataTable, element);\n",
              "          const docLink = document.createElement('div');\n",
              "          docLink.innerHTML = docLinkHtml;\n",
              "          element.appendChild(docLink);\n",
              "        }\n",
              "      </script>\n",
              "    </div>\n",
              "  </div>\n",
              "  "
            ]
          },
          "metadata": {},
          "execution_count": 17
        }
      ],
      "source": [
        "test_data.head()"
      ]
    },
    {
      "cell_type": "code",
      "execution_count": null,
      "metadata": {
        "id": "C2oF5UsC-ZGG",
        "colab": {
          "base_uri": "https://localhost:8080/"
        },
        "outputId": "61d1e516-8a6c-45f7-a158-4dc944a66eba"
      },
      "outputs": [
        {
          "output_type": "execute_result",
          "data": {
            "text/plain": [
              "4000"
            ]
          },
          "metadata": {},
          "execution_count": 18
        }
      ],
      "source": [
        "len(test_data)"
      ]
    },
    {
      "cell_type": "markdown",
      "metadata": {
        "id": "EZOIlSiSMIUy"
      },
      "source": [
        "## Word Vectors"
      ]
    },
    {
      "cell_type": "markdown",
      "source": [
        "The first step that we need to take, after cleaning our data is to get a numerical **representation of our input text**. This process, sometimes called *vectorization*, consists on having a vector, or embedding, that represents the full sentence.\n",
        "\n",
        "In this case, we are using word2vec, which means that we are obtaining a vector for each of the words, or tokens. Then, to obtain a representation of the full text we need to combine this representation at a word level into the final one that represents the whole sentence. Good news, this has been already done in the data preprocessing and you already have the average vector representation in the column `mean_vector`"
      ],
      "metadata": {
        "id": "J5sVCKd_1LTJ"
      }
    },
    {
      "cell_type": "markdown",
      "metadata": {
        "id": "PWWu1kGEfLQD"
      },
      "source": [
        "What do Word Vectors Look Like?"
      ]
    },
    {
      "cell_type": "code",
      "execution_count": null,
      "metadata": {
        "id": "etHNa8DniUBC",
        "colab": {
          "base_uri": "https://localhost:8080/"
        },
        "outputId": "295e421e-f9eb-4b5c-b88a-33312d0f1bd5"
      },
      "outputs": [
        {
          "output_type": "stream",
          "name": "stdout",
          "text": [
            "[-0.68268675  0.43725497 -1.1746014  -0.8922203   1.6285096  -0.08583235\n",
            "  1.9869169   2.2289355  -1.1241186  -0.98234576  3.5451553   0.68969584\n",
            " -2.36421     0.8828307   1.216838   -0.2313035   1.9382476   0.09125143\n",
            " -0.11092269  0.7692808   0.24517784  0.80817413 -0.22713697 -0.81592625\n",
            " -0.45210367 -0.5055888  -2.6269245  -0.90938497  0.37655222  1.3181252\n",
            "  0.9802494   0.60768205  0.04827475 -1.1443077  -0.4584379  -0.32355532\n",
            " -0.5842001   0.8346779   1.2280763   0.19435407  0.06000812 -0.25770304\n",
            " -0.3632589   1.0614259  -0.67075723  0.7565711   0.18622436 -1.2773826\n",
            "  0.8335584   0.8344854  -0.17569128  1.0772332   0.18972649 -2.2110422\n",
            " -1.1918604   0.3268282  -0.7705991   0.46911162  1.4865      0.58554995\n",
            "  0.7709333   0.6764115  -1.5551403  -0.52843183  1.135901    1.9827585\n",
            " -3.004605   -2.380218    0.16303198  1.2771401  -0.6350919   0.22751464\n",
            " -1.0825481  -0.48870346  0.26395988  1.7958345  -1.1237227   0.56496066\n",
            " -0.7075442   0.64079314 -1.5644431  -0.3399433   1.0498844   0.15841833\n",
            "  1.2078364  -0.61181986 -0.1521044  -1.7340271  -0.47165918 -0.00701975\n",
            " -1.1709715   2.5397308   0.13632779 -2.0523343   0.36764586 -0.6628239\n",
            "  1.4918699  -1.2762862   0.64123183  0.6681026   1.2554411  -0.25080502\n",
            "  1.7873273   2.0203056  -1.1074479   1.6226466  -0.8468246  -0.853005\n",
            "  0.16296099 -1.2897245   1.4580442  -0.17153883 -0.3351677  -0.27877215\n",
            "  0.70708644  0.7283142  -2.432519   -1.11628     0.0722205  -0.7269764\n",
            " -0.8872915  -1.496132    0.57805073  0.32314605 -1.2127402  -1.1985357\n",
            "  0.6940797  -1.730348    1.3023986   0.4205325  -2.4213643   0.6831891\n",
            "  2.501736   -0.2547384  -0.9084561   0.07937781 -1.317743    0.2281846\n",
            "  2.1354067  -1.482231   -0.44827825  0.43010345 -0.13608472  0.7195181\n",
            "  0.08325166  0.01055439 -2.7924254  -0.74675584  0.7525751   1.6085492\n",
            "  0.1451665   0.02465916  0.5064159   0.72548604 -0.9822009   0.87967414\n",
            "  2.7303922   1.1198169  -0.22729725 -1.2436849   0.14648758 -1.2904027\n",
            "  0.3556242   0.15310638 -1.0220065  -0.8194907  -1.1590018  -0.41075864\n",
            " -0.8288137   0.1321639   0.48853648  0.4217339   0.13709304 -0.0601663\n",
            "  0.36283606 -0.00458671  0.30893445  0.597518   -0.7836833  -1.1619257\n",
            " -0.56025517  0.76275     1.0452787  -0.12356835 -1.1265446   0.9037772\n",
            " -0.59825826 -1.2751852   0.43077016  1.1859301  -0.58043426  0.1095731\n",
            " -0.4408088  -0.67837644  1.2504495  -1.4503592  -2.4550266   0.06361693\n",
            " -0.5235392   2.2500787  -0.4083659  -0.94179994 -0.91767067 -1.8862215\n",
            "  1.1120645   0.4986354  -0.99149203  0.579071   -0.07013895 -0.1651415\n",
            "  1.058239   -0.5691487   0.5596372   0.96737236  0.8232527   1.4746763\n",
            "  0.4142369  -1.9757893  -1.1169817   0.07286298 -1.1562029  -0.1441214\n",
            " -0.30394366  0.8455441  -1.5277365  -0.17650592 -0.22632083  1.4224814\n",
            "  0.8052599   0.81516564  0.26989374 -1.7655257   0.20349775  0.21496052\n",
            "  0.9962308   0.96830755  0.15589532  1.8359665  -0.8105398  -0.09655615\n",
            " -1.3693957  -0.69625676 -0.33988175  0.7114831   0.48712465 -0.24675426\n",
            " -1.0254372   0.3254604   0.08337491  1.8273985   0.92738265 -1.2952422\n",
            " -2.5417235  -0.3357514  -0.2737154  -0.9579578   0.86500484 -0.27707443\n",
            "  0.18134898  1.2909861   0.16389187  2.034081    1.5550715   0.32007325\n",
            "  0.5072174  -0.7102238   0.02770978  1.3669034  -2.1971858  -0.6897537\n",
            "  0.08959259 -0.47243553 -0.00615166 -0.8044501  -0.5009438  -0.07604796\n",
            "  0.8938747  -1.0168202  -0.9283469   0.8172943   0.5962854  -0.9462074\n",
            "  1.0306562  -0.051466    2.7093465  -0.24272352  0.09791298 -0.23323181\n",
            " -1.717712   -0.01467523  1.1259639  -1.541159    0.79939854 -0.46675467\n",
            " -1.1879569  -0.5865872   1.3517816  -0.6125955  -2.3454947   0.6162533 ]\n"
          ]
        }
      ],
      "source": [
        "## TODO: Print a word vector\n",
        "index_vector = 3326\n",
        "word_vector = test_data.loc[index_vector,\"mean_vector\"]\n",
        "print(word_vector)"
      ]
    },
    {
      "cell_type": "markdown",
      "source": [
        "**What is the dimension of the word vectors?** You will need it to define the embedding layer dimension."
      ],
      "metadata": {
        "id": "G53ggYUlAMmC"
      }
    },
    {
      "cell_type": "code",
      "execution_count": null,
      "metadata": {
        "id": "SVjhyvcLc59E",
        "colab": {
          "base_uri": "https://localhost:8080/"
        },
        "outputId": "974fe03f-1301-4a02-c00a-f853c887795b"
      },
      "outputs": [
        {
          "output_type": "execute_result",
          "data": {
            "text/plain": [
              "300"
            ]
          },
          "metadata": {},
          "execution_count": 20
        }
      ],
      "source": [
        "## TODO Get vector dimension\n",
        "vec_dim = len(word_vector)\n",
        "vec_dim"
      ]
    },
    {
      "cell_type": "markdown",
      "metadata": {
        "id": "_wktXv4R1zBP"
      },
      "source": [
        "Once a word vector model is trained, we can do similarity matches very quickly and very reliably. Let’s explore some vectors from our model."
      ]
    },
    {
      "cell_type": "code",
      "execution_count": null,
      "metadata": {
        "id": "58-74xpfxFex",
        "colab": {
          "base_uri": "https://localhost:8080/",
          "height": 70
        },
        "outputId": "170b1bb9-1cb3-41cc-c146-5499d5626e2d"
      },
      "outputs": [
        {
          "output_type": "execute_result",
          "data": {
            "text/plain": [
              "'bromwell high cartoon comedy run time program school life teachers number year teaching profession lead believe bromwell high satire close reality teacher scramble survive financially insightful student right pathetic teacher pomp pettiness situation remind school know student see episode student repeatedly try burn school immediately recall high classic line inspector sack number teacher student welcome bromwell high expect adult age think bromwell high far fetch pity'"
            ],
            "application/vnd.google.colaboratory.intrinsic+json": {
              "type": "string"
            }
          },
          "metadata": {},
          "execution_count": 21
        }
      ],
      "source": [
        "# get review given a file_name\n",
        "file_name =\"0_9.txt\"\n",
        "\n",
        "text_sample = [element for element in train_pos_reviews if element['file_name'] == file_name][0]\n",
        "\" \".join(text_sample['clean_tokens'])"
      ]
    },
    {
      "cell_type": "markdown",
      "metadata": {
        "id": "ztNsOPRa6MqN"
      },
      "source": [
        "By using Whitelies library, we are going to visualize the word vectors from a specific review in a 2D space."
      ]
    },
    {
      "cell_type": "code",
      "execution_count": null,
      "metadata": {
        "id": "BkehPkH6Pks4",
        "colab": {
          "base_uri": "https://localhost:8080/",
          "height": 385
        },
        "outputId": "c8920bbe-5357-4a91-afc7-044edce1f14e"
      },
      "outputs": [
        {
          "output_type": "execute_result",
          "data": {
            "text/html": [
              "\n",
              "<div id=\"altair-viz-69f60decfd9b4ddfa39cca4fada6a2af\"></div>\n",
              "<script type=\"text/javascript\">\n",
              "  var VEGA_DEBUG = (typeof VEGA_DEBUG == \"undefined\") ? {} : VEGA_DEBUG;\n",
              "  (function(spec, embedOpt){\n",
              "    let outputDiv = document.currentScript.previousElementSibling;\n",
              "    if (outputDiv.id !== \"altair-viz-69f60decfd9b4ddfa39cca4fada6a2af\") {\n",
              "      outputDiv = document.getElementById(\"altair-viz-69f60decfd9b4ddfa39cca4fada6a2af\");\n",
              "    }\n",
              "    const paths = {\n",
              "      \"vega\": \"https://cdn.jsdelivr.net/npm//vega@5?noext\",\n",
              "      \"vega-lib\": \"https://cdn.jsdelivr.net/npm//vega-lib?noext\",\n",
              "      \"vega-lite\": \"https://cdn.jsdelivr.net/npm//vega-lite@4.17.0?noext\",\n",
              "      \"vega-embed\": \"https://cdn.jsdelivr.net/npm//vega-embed@6?noext\",\n",
              "    };\n",
              "\n",
              "    function maybeLoadScript(lib, version) {\n",
              "      var key = `${lib.replace(\"-\", \"\")}_version`;\n",
              "      return (VEGA_DEBUG[key] == version) ?\n",
              "        Promise.resolve(paths[lib]) :\n",
              "        new Promise(function(resolve, reject) {\n",
              "          var s = document.createElement('script');\n",
              "          document.getElementsByTagName(\"head\")[0].appendChild(s);\n",
              "          s.async = true;\n",
              "          s.onload = () => {\n",
              "            VEGA_DEBUG[key] = version;\n",
              "            return resolve(paths[lib]);\n",
              "          };\n",
              "          s.onerror = () => reject(`Error loading script: ${paths[lib]}`);\n",
              "          s.src = paths[lib];\n",
              "        });\n",
              "    }\n",
              "\n",
              "    function showError(err) {\n",
              "      outputDiv.innerHTML = `<div class=\"error\" style=\"color:red;\">${err}</div>`;\n",
              "      throw err;\n",
              "    }\n",
              "\n",
              "    function displayChart(vegaEmbed) {\n",
              "      vegaEmbed(outputDiv, spec, embedOpt)\n",
              "        .catch(err => showError(`Javascript Error: ${err.message}<br>This usually means there's a typo in your chart specification. See the javascript console for the full traceback.`));\n",
              "    }\n",
              "\n",
              "    if(typeof define === \"function\" && define.amd) {\n",
              "      requirejs.config({paths});\n",
              "      require([\"vega-embed\"], displayChart, err => showError(`Error loading script: ${err.message}`));\n",
              "    } else {\n",
              "      maybeLoadScript(\"vega\", \"5\")\n",
              "        .then(() => maybeLoadScript(\"vega-lite\", \"4.17.0\"))\n",
              "        .then(() => maybeLoadScript(\"vega-embed\", \"6\"))\n",
              "        .catch(showError)\n",
              "        .then(() => displayChart(vegaEmbed));\n",
              "    }\n",
              "  })({\"config\": {\"view\": {\"continuousWidth\": 400, \"continuousHeight\": 300}}, \"layer\": [{\"mark\": {\"type\": \"circle\", \"size\": 60}, \"encoding\": {\"color\": {\"field\": \"\", \"legend\": null, \"type\": \"nominal\"}, \"tooltip\": [{\"field\": \"name\", \"type\": \"nominal\"}, {\"field\": \"original\", \"type\": \"nominal\"}], \"x\": {\"axis\": {\"title\": \"teacher\"}, \"field\": \"x_axis\", \"type\": \"quantitative\"}, \"y\": {\"axis\": {\"title\": \"cartoon\"}, \"field\": \"y_axis\", \"type\": \"quantitative\"}}, \"selection\": {\"selector001\": {\"type\": \"interval\", \"bind\": \"scales\", \"encodings\": [\"x\", \"y\"]}}, \"title\": \"teacher vs. cartoon\"}, {\"mark\": {\"type\": \"text\", \"color\": \"black\", \"dx\": -15, \"dy\": 3}, \"encoding\": {\"text\": {\"field\": \"original\", \"type\": \"nominal\"}, \"x\": {\"field\": \"x_axis\", \"type\": \"quantitative\"}, \"y\": {\"field\": \"y_axis\", \"type\": \"quantitative\"}}}], \"data\": {\"name\": \"data-2edbdb576701a994dff1e6d1537360a4\"}, \"$schema\": \"https://vega.github.io/schema/vega-lite/v4.17.0.json\", \"datasets\": {\"data-2edbdb576701a994dff1e6d1537360a4\": [{\"x_axis\": 0.3594798147678375, \"y_axis\": 0.07814127206802368, \"name\": \"time\", \"original\": \"time\"}, {\"x_axis\": 0.19417014718055725, \"y_axis\": -0.09748438000679016, \"name\": \"high\", \"original\": \"high\"}, {\"x_axis\": 0.1203199103474617, \"y_axis\": 0.0727396234869957, \"name\": \"remind\", \"original\": \"remind\"}, {\"x_axis\": 0.12146779149770737, \"y_axis\": 0.05591721460223198, \"name\": \"pettiness\", \"original\": \"pettiness\"}, {\"x_axis\": 0.16392159461975098, \"y_axis\": 0.049721285700798035, \"name\": \"number\", \"original\": \"number\"}, {\"x_axis\": 0.2690313160419464, \"y_axis\": 0.23066352307796478, \"name\": \"reality\", \"original\": \"reality\"}, {\"x_axis\": 0.28876444697380066, \"y_axis\": 0.06533604860305786, \"name\": \"know\", \"original\": \"know\"}, {\"x_axis\": 0.10662682354450226, \"y_axis\": -0.08177189528942108, \"name\": \"expect\", \"original\": \"expect\"}, {\"x_axis\": 0.12874935567378998, \"y_axis\": 0.041633810847997665, \"name\": \"recall\", \"original\": \"recall\"}, {\"x_axis\": 0.32613301277160645, \"y_axis\": 0.31543436646461487, \"name\": \"adult\", \"original\": \"adult\"}, {\"x_axis\": 0.12234833091497421, \"y_axis\": -0.06563498824834824, \"name\": \"close\", \"original\": \"close\"}, {\"x_axis\": 0.03974197432398796, \"y_axis\": 0.2420676350593567, \"name\": \"line\", \"original\": \"line\"}, {\"x_axis\": 0.1430826187133789, \"y_axis\": 0.07126863300800323, \"name\": \"repeatedly\", \"original\": \"repeatedly\"}, {\"x_axis\": 0.07832661271095276, \"y_axis\": 0.3998665511608124, \"name\": \"classic\", \"original\": \"classic\"}, {\"x_axis\": 0.12959478795528412, \"y_axis\": 0.09580917656421661, \"name\": \"pathetic\", \"original\": \"pathetic\"}, {\"x_axis\": -0.046234674751758575, \"y_axis\": 0.026518208906054497, \"name\": \"scramble\", \"original\": \"scramble\"}, {\"x_axis\": 0.007174958940595388, \"y_axis\": -0.010790856555104256, \"name\": \"pity\", \"original\": \"pity\"}, {\"x_axis\": 0.16776308417320251, \"y_axis\": 0.03227175399661064, \"name\": \"right\", \"original\": \"right\"}, {\"x_axis\": 0.12784254550933838, \"y_axis\": -0.00040469603845849633, \"name\": \"immediately\", \"original\": \"immediately\"}, {\"x_axis\": 0.2862805426120758, \"y_axis\": -0.007710167672485113, \"name\": \"inspector\", \"original\": \"inspector\"}, {\"x_axis\": -0.042639654129743576, \"y_axis\": -0.005905281286686659, \"name\": \"sack\", \"original\": \"sack\"}, {\"x_axis\": 0.13668495416641235, \"y_axis\": -0.035255029797554016, \"name\": \"welcome\", \"original\": \"welcome\"}, {\"x_axis\": 0.06442863494157791, \"y_axis\": -0.023459702730178833, \"name\": \"far\", \"original\": \"far\"}, {\"x_axis\": 0.2449605017900467, \"y_axis\": -0.006026229355484247, \"name\": \"situation\", \"original\": \"situation\"}, {\"x_axis\": 0.1432676613330841, \"y_axis\": 0.6139873266220093, \"name\": \"comedy\", \"original\": \"comedy\"}, {\"x_axis\": 0.7837377190589905, \"y_axis\": 0.07318294048309326, \"name\": \"teaching\", \"original\": \"teaching\"}, {\"x_axis\": 0.5039357542991638, \"y_axis\": 0.07834762334823608, \"name\": \"life\", \"original\": \"life\"}, {\"x_axis\": 0.7815908193588257, \"y_axis\": 0.029698055237531662, \"name\": \"teachers\", \"original\": \"teachers\"}, {\"x_axis\": 0.2306518703699112, \"y_axis\": 0.13436204195022583, \"name\": \"insightful\", \"original\": \"insightful\"}, {\"x_axis\": -0.09403378516435623, \"y_axis\": -0.13138775527477264, \"name\": \"burn\", \"original\": \"burn\"}, {\"x_axis\": 0.06694753468036652, \"y_axis\": 1.0, \"name\": \"cartoon\", \"original\": \"cartoon\"}, {\"x_axis\": 0.02142210491001606, \"y_axis\": 0.1301591396331787, \"name\": \"run\", \"original\": \"run\"}, {\"x_axis\": 0.6202691793441772, \"y_axis\": 0.13920199871063232, \"name\": \"age\", \"original\": \"age\"}, {\"x_axis\": 0.25614893436431885, \"y_axis\": 0.16497927904129028, \"name\": \"think\", \"original\": \"think\"}, {\"x_axis\": -0.05627935752272606, \"y_axis\": -0.08013100922107697, \"name\": \"pomp\", \"original\": \"pomp\"}, {\"x_axis\": 0.06573434174060822, \"y_axis\": 0.5668087601661682, \"name\": \"episode\", \"original\": \"episode\"}, {\"x_axis\": 0.0, \"y_axis\": 0.0, \"name\": \"bromwell\", \"original\": \"bromwell\"}, {\"x_axis\": 0.33884578943252563, \"y_axis\": 0.021745922043919563, \"name\": \"year\", \"original\": \"year\"}, {\"x_axis\": 0.5032283067703247, \"y_axis\": -0.030479062348604202, \"name\": \"profession\", \"original\": \"profession\"}, {\"x_axis\": 0.17638805508613586, \"y_axis\": -0.19011420011520386, \"name\": \"lead\", \"original\": \"lead\"}, {\"x_axis\": 1.0, \"y_axis\": 0.10156290978193283, \"name\": \"teacher\", \"original\": \"teacher\"}, {\"x_axis\": 0.039053913205862045, \"y_axis\": -0.04756603389978409, \"name\": \"survive\", \"original\": \"survive\"}, {\"x_axis\": 0.07644043862819672, \"y_axis\": 0.5311663746833801, \"name\": \"satire\", \"original\": \"satire\"}, {\"x_axis\": 0.20985108613967896, \"y_axis\": -0.12138982862234116, \"name\": \"financially\", \"original\": \"financially\"}, {\"x_axis\": 0.24503347277641296, \"y_axis\": -0.0023794060107320547, \"name\": \"believe\", \"original\": \"believe\"}, {\"x_axis\": 0.4299757778644562, \"y_axis\": 0.10361473262310028, \"name\": \"program\", \"original\": \"program\"}, {\"x_axis\": 0.1371670514345169, \"y_axis\": 0.20170165598392487, \"name\": \"see\", \"original\": \"see\"}, {\"x_axis\": 0.08921162784099579, \"y_axis\": -0.006067726295441389, \"name\": \"try\", \"original\": \"try\"}, {\"x_axis\": -0.004421911668032408, \"y_axis\": 0.04268266633152962, \"name\": \"fetch\", \"original\": \"fetch\"}, {\"x_axis\": 0.8360284566879272, \"y_axis\": -0.040005140006542206, \"name\": \"student\", \"original\": \"student\"}, {\"x_axis\": 0.9151172637939453, \"y_axis\": 0.05193326249718666, \"name\": \"school\", \"original\": \"school\"}]}}, {\"mode\": \"vega-lite\"});\n",
              "</script>"
            ],
            "text/plain": [
              "alt.LayerChart(...)"
            ]
          },
          "metadata": {},
          "execution_count": 22
        }
      ],
      "source": [
        "from whatlies import EmbeddingSet\n",
        "from whatlies.language import SpacyLanguage\n",
        "\n",
        "lang = SpacyLanguage('en_core_web_lg')\n",
        "\n",
        "emb = lang[set(text_sample['clean_tokens'])]\n",
        "emb.plot_interactive(x_axis='teacher', y_axis='cartoon')"
      ]
    },
    {
      "cell_type": "markdown",
      "source": [
        "You can obtain the cosine similarity between two words by obtaining their doc object and using `similarity()` method."
      ],
      "metadata": {
        "id": "9zQeGBkjzdn2"
      }
    },
    {
      "cell_type": "code",
      "execution_count": null,
      "metadata": {
        "id": "_ZR-p3M21ggh",
        "colab": {
          "base_uri": "https://localhost:8080/"
        },
        "outputId": "effd452c-12bf-4d65-9246-b177296cb98a"
      },
      "outputs": [
        {
          "output_type": "execute_result",
          "data": {
            "text/plain": [
              "0.7310398733169878"
            ]
          },
          "metadata": {},
          "execution_count": 23
        }
      ],
      "source": [
        "## TODO compute similarity for 2 similar words by using the cosine similarity\n",
        "word_1 = nlp('student')\n",
        "word_2 = nlp('teacher')\n",
        "cos_similarity = word_1.similarity(word_2)\n",
        "cos_similarity"
      ]
    },
    {
      "cell_type": "code",
      "source": [
        "word_1 = nlp('student')\n",
        "word_3 = nlp('comedy')\n",
        "cos_similarity = word_1.similarity(word_3)\n",
        "cos_similarity"
      ],
      "metadata": {
        "colab": {
          "base_uri": "https://localhost:8080/"
        },
        "id": "lZOKiUX1Y4_M",
        "outputId": "e9b2663c-2f60-4b98-933d-648336687172"
      },
      "execution_count": null,
      "outputs": [
        {
          "output_type": "execute_result",
          "data": {
            "text/plain": [
              "0.05032045518372582"
            ]
          },
          "metadata": {},
          "execution_count": 24
        }
      ]
    },
    {
      "cell_type": "markdown",
      "source": [
        "You can play with the visualization by changing the word axis. Additionaly, if you have curiosity you can visualize word embeddings of another review.\n"
      ],
      "metadata": {
        "id": "J21m7BYoBz9I"
      }
    },
    {
      "cell_type": "markdown",
      "source": [
        "## **Basic classification structure**\n",
        "Usually a text classifier has these basic components:\n",
        "\n",
        "![image.png](data:image/png;base64,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)\n",
        "\n"
      ],
      "metadata": {
        "id": "IkFZMetBI0Fd"
      }
    },
    {
      "cell_type": "markdown",
      "source": [
        "\n",
        "* **Text preprocessor**: this step usually includes preprocessing tasks like transforming to lower case, removing stop words, removing HTML, etc. It has to be carefully designed depending on each use case, as it might have a high impact on the performance of the model.\n",
        "* **Vectorizer**: the component that given a string of text transforms it into a vector. This is what we call the **embedding** of the text.\n",
        "* **Classification network**: a neural network that aims to codify the embedding into the output classes. The result of this component is what we call the logits.\n",
        "* **Model output**: a distribution of probabilities across the classes, usually after applying a sigmoid transformation.\n",
        "\n",
        "\n",
        "There are **different approaches** for solving this problem. From a very simple approach based on the scikit learn framework to the most advanced **BERT** based model, all of them follow the described architecture. **Differences come in how the embedding is obtained**."
      ],
      "metadata": {
        "id": "Jv4qaizCI9Tb"
      }
    },
    {
      "cell_type": "markdown",
      "metadata": {
        "id": "dNyuXkDg4eLO"
      },
      "source": [
        "## **Fully Connected Neural Network**"
      ]
    },
    {
      "cell_type": "markdown",
      "source": [
        "Let's implement a dense neural network for text classification by using word vectors taking the following considerations:\n",
        "\n",
        "* The input shape is the vector dimension\n",
        "* The neural network should be composed of  5 `Dense` layers with the following shape: `[500, 300, 250, 100]`\n",
        "* For the activation functions of intermediate layers you can chose between `tanh` and `relu`.\n",
        "* `Dropout` is usually used after the activation function to avoid overfitting\n",
        "* The last dense layer should output a probability value between 0 and 1 for binary classification."
      ],
      "metadata": {
        "id": "33B1SCA32HyF"
      }
    },
    {
      "cell_type": "code",
      "execution_count": null,
      "metadata": {
        "id": "MO9a7RaB4qDQ",
        "colab": {
          "base_uri": "https://localhost:8080/"
        },
        "outputId": "7655c2ae-aaee-48f1-fbec-2efae915467f"
      },
      "outputs": [
        {
          "output_type": "execute_result",
          "data": {
            "text/plain": [
              "(None, 1)"
            ]
          },
          "metadata": {},
          "execution_count": 25
        }
      ],
      "source": [
        "from keras import regularizers, optimizers\n",
        "from keras.layers import TextVectorization\n",
        "from keras.layers import Embedding, Dense, Dropout, Input, LSTM, GlobalMaxPool1D\n",
        "from keras.models import Sequential\n",
        "from keras.initializers import Constant\n",
        "import tensorflow as tf\n",
        "from keras import layers\n",
        "\n",
        "# we create a new sequential model object\n",
        "model = Sequential()\n",
        "\n",
        "input_shape = vec_dim  #vec_dim=300\n",
        "\n",
        "## TODO: you can add layers by using model.add(...)\n",
        "model.add(Input(shape=(input_shape,)))\n",
        "model.add(layers.Dense(500, activation='relu'))\n",
        "model.add(layers.Dense(300, activation='relu'))\n",
        "model.add(layers.Dense(250, activation='relu'))\n",
        "model.add(layers.Dense(100, activation='relu'))\n",
        "model.add(layers.Dense(1, activation='sigmoid'))\n",
        "\n",
        "model.output_shape"
      ]
    },
    {
      "cell_type": "markdown",
      "source": [
        "Here we are going to define the optimizer, the learning rate and the loss.\n",
        "\n",
        "The **learning rate** is a hyperparameter used in many machine learning algorithms, such as gradient descent, to control the size of the step taken in the direction of the negative gradient during training. The learning rate determines how quickly the algorithm updates the model's parameters in response to the training data. It should be in the range [0.01, 0.0001].\n",
        "\n",
        "If the learning rate is too high, the algorithm may not converge and overshoot the optimal solution, while if the learning rate is too low, the algorithm may take too long to converge. A good learning rate balances the trade-off between convergence speed and quality.\n",
        "\n",
        "Regarding the loss, as we are dealing with a binary classification we are going to use the `\"binary_crossentropy\"`."
      ],
      "metadata": {
        "id": "CxWrBPRIGmVh"
      }
    },
    {
      "cell_type": "code",
      "source": [
        "## TODO set learning rate\n",
        "adam = optimizers.Adam(learning_rate=0.001, decay=1e-2)\n",
        "\n",
        "## TODO add loss and optimizer\n",
        "model.compile(loss=\"binary_crossentropy\", optimizer=\"adam\", metrics=[\"accuracy\"])\n",
        "\n",
        "print(model.summary())"
      ],
      "metadata": {
        "id": "PNMapasXS4hw",
        "colab": {
          "base_uri": "https://localhost:8080/"
        },
        "outputId": "3ebff1bb-1f3c-4381-cc97-67ccf1e437a6"
      },
      "execution_count": null,
      "outputs": [
        {
          "output_type": "stream",
          "name": "stdout",
          "text": [
            "Model: \"sequential\"\n",
            "_________________________________________________________________\n",
            " Layer (type)                Output Shape              Param #   \n",
            "=================================================================\n",
            " dense (Dense)               (None, 500)               150500    \n",
            "                                                                 \n",
            " dense_1 (Dense)             (None, 300)               150300    \n",
            "                                                                 \n",
            " dense_2 (Dense)             (None, 250)               75250     \n",
            "                                                                 \n",
            " dense_3 (Dense)             (None, 100)               25100     \n",
            "                                                                 \n",
            " dense_4 (Dense)             (None, 1)                 101       \n",
            "                                                                 \n",
            "=================================================================\n",
            "Total params: 401,251\n",
            "Trainable params: 401,251\n",
            "Non-trainable params: 0\n",
            "_________________________________________________________________\n",
            "None\n"
          ]
        }
      ]
    },
    {
      "cell_type": "code",
      "execution_count": null,
      "metadata": {
        "id": "eTGUBVc7NkbQ",
        "colab": {
          "base_uri": "https://localhost:8080/",
          "height": 121
        },
        "outputId": "365a8a6e-65bc-427a-fe93-5971e3aceb96"
      },
      "outputs": [
        {
          "output_type": "execute_result",
          "data": {
            "image/png": "[encoded data removed]",
            "text/plain": [
              "<IPython.core.display.Image object>"
            ]
          },
          "metadata": {},
          "execution_count": 27
        }
      ],
      "source": [
        "# show model diagram\n",
        "plot_model(model, show_shapes=True, rankdir='LR')"
      ]
    },
    {
      "cell_type": "code",
      "execution_count": null,
      "metadata": {
        "id": "fc27KenmHtcl",
        "colab": {
          "base_uri": "https://localhost:8080/"
        },
        "outputId": "897de8bc-0b97-42a3-8497-d6fc98eab94d"
      },
      "outputs": [
        {
          "output_type": "execute_result",
          "data": {
            "text/plain": [
              "(12000,)"
            ]
          },
          "metadata": {},
          "execution_count": 28
        }
      ],
      "source": [
        "train_data['mean_vector'].shape"
      ]
    },
    {
      "cell_type": "code",
      "execution_count": null,
      "metadata": {
        "id": "kdaQlhxE_jrs",
        "colab": {
          "base_uri": "https://localhost:8080/"
        },
        "outputId": "4dafe51e-4cf8-4880-c180-3cb50deb2571"
      },
      "outputs": [
        {
          "output_type": "execute_result",
          "data": {
            "text/plain": [
              "(300,)"
            ]
          },
          "metadata": {},
          "execution_count": 29
        }
      ],
      "source": [
        "train_data['mean_vector'][0].shape"
      ]
    },
    {
      "cell_type": "code",
      "execution_count": null,
      "metadata": {
        "id": "8xdDI0E2GOPn",
        "colab": {
          "base_uri": "https://localhost:8080/"
        },
        "outputId": "dcb12cc7-0358-409d-b1a2-fc2677d70452"
      },
      "outputs": [
        {
          "output_type": "execute_result",
          "data": {
            "text/plain": [
              "(12000, 300)"
            ]
          },
          "metadata": {},
          "execution_count": 30
        }
      ],
      "source": [
        "# Our input data need to have shape [n_samples, features]\n",
        "mean_vector_array = np.array(train_data['mean_vector'].tolist())\n",
        "mean_vector_array.shape\n"
      ]
    },
    {
      "cell_type": "markdown",
      "source": [
        "Fit the data into the model and set the hyperparameters.\n",
        "* Batch size should be in the range `[32, 250]`\n",
        "* Epochs should be in the range `[20, 50]`\n",
        "\n",
        "We are going to use **early stopping** on validation loss for training our network. Early stopping helps prevent overfitting by stopping the training process before the model starts to memorize the training data."
      ],
      "metadata": {
        "id": "CxnVSS4zSYbj"
      }
    },
    {
      "cell_type": "code",
      "execution_count": null,
      "metadata": {
        "id": "HFdVZsfXNkbQ",
        "colab": {
          "base_uri": "https://localhost:8080/"
        },
        "outputId": "fdf6e9b4-7e88-4138-8816-af5570b67489"
      },
      "outputs": [
        {
          "output_type": "stream",
          "name": "stdout",
          "text": [
            "Epoch 1/30\n",
            "96/96 [==============================] - 8s 6ms/step - loss: 0.4986 - accuracy: 0.7522 - val_loss: 0.4370 - val_accuracy: 0.7992\n",
            "Epoch 2/30\n",
            "96/96 [==============================] - 0s 4ms/step - loss: 0.4252 - accuracy: 0.8058 - val_loss: 0.3983 - val_accuracy: 0.8213\n",
            "Epoch 3/30\n",
            "96/96 [==============================] - 0s 4ms/step - loss: 0.4036 - accuracy: 0.8160 - val_loss: 0.4095 - val_accuracy: 0.8108\n",
            "Epoch 4/30\n",
            "96/96 [==============================] - 0s 4ms/step - loss: 0.3932 - accuracy: 0.8238 - val_loss: 0.3936 - val_accuracy: 0.8246\n",
            "Epoch 5/30\n",
            "96/96 [==============================] - 0s 4ms/step - loss: 0.3744 - accuracy: 0.8347 - val_loss: 0.4279 - val_accuracy: 0.8017\n",
            "Epoch 6/30\n",
            "96/96 [==============================] - 0s 4ms/step - loss: 0.3612 - accuracy: 0.8407 - val_loss: 0.4011 - val_accuracy: 0.8175\n",
            "Epoch 7/30\n",
            "96/96 [==============================] - 0s 4ms/step - loss: 0.3534 - accuracy: 0.8446 - val_loss: 0.3986 - val_accuracy: 0.8208\n",
            "Epoch 8/30\n",
            "96/96 [==============================] - 0s 4ms/step - loss: 0.3501 - accuracy: 0.8445 - val_loss: 0.3909 - val_accuracy: 0.8350\n",
            "Epoch 9/30\n",
            "96/96 [==============================] - 0s 4ms/step - loss: 0.3262 - accuracy: 0.8555 - val_loss: 0.4462 - val_accuracy: 0.8083\n",
            "Epoch 10/30\n",
            "96/96 [==============================] - 0s 4ms/step - loss: 0.3231 - accuracy: 0.8593 - val_loss: 0.4046 - val_accuracy: 0.8329\n",
            "Epoch 11/30\n",
            "96/96 [==============================] - 0s 4ms/step - loss: 0.3127 - accuracy: 0.8641 - val_loss: 0.4139 - val_accuracy: 0.8313\n",
            "Epoch 12/30\n",
            "96/96 [==============================] - 0s 4ms/step - loss: 0.3006 - accuracy: 0.8677 - val_loss: 0.3968 - val_accuracy: 0.8271\n",
            "Epoch 13/30\n",
            "96/96 [==============================] - 1s 6ms/step - loss: 0.2920 - accuracy: 0.8730 - val_loss: 0.4737 - val_accuracy: 0.8196\n"
          ]
        }
      ],
      "source": [
        "from keras.callbacks import EarlyStopping\n",
        "earlyStopping = EarlyStopping(monitor='val_loss', patience=5, verbose=0, mode='min')\n",
        "\n",
        "# Our input data need to have shape [n_samples, features]\n",
        "X_train = np.array(train_data['mean_vector'].tolist())\n",
        "y_train = train_data['label']\n",
        "\n",
        "## TODO\n",
        "history = model.fit(X_train,\n",
        "          y_train,\n",
        "          batch_size = 100,\n",
        "          epochs = 30,\n",
        "          validation_split=.2,\n",
        "          callbacks=[earlyStopping],\n",
        "          shuffle=True)"
      ]
    },
    {
      "cell_type": "markdown",
      "metadata": {
        "id": "9x0xSvQ9IMxR"
      },
      "source": [
        "The `\"sigmoid\"` activation function produces continuous output values between 0 and 1. To convert the predicted values to binary, you can use a threshold value. For example, you can set a threshold of 0.5, such that any predicted value above 0.5 is classified as positive (1) and any predicted value below 0.5 is classified as negative (0). You can use the `round()` function to apply this threshold."
      ]
    },
    {
      "cell_type": "code",
      "execution_count": null,
      "metadata": {
        "id": "3masPhLfNpXS",
        "colab": {
          "base_uri": "https://localhost:8080/"
        },
        "outputId": "e69fdd91-3b9e-452f-f426-fbedb79809c4"
      },
      "outputs": [
        {
          "output_type": "stream",
          "name": "stdout",
          "text": [
            "125/125 [==============================] - 0s 2ms/step\n",
            "[[1]\n",
            " [0]\n",
            " [0]\n",
            " ...\n",
            " [0]\n",
            " [0]\n",
            " [0]]\n"
          ]
        }
      ],
      "source": [
        "X_test = np.array(test_data['mean_vector'].tolist())\n",
        "y_test = test_data['label']\n",
        "\n",
        "# TODO: Predict labels of test data\n",
        "y_pred = model.predict(X_test)\n",
        "y_pred = y_pred.round(2)\n",
        "\n",
        "threshold = 0.5\n",
        "\n",
        "y_pred = np.where(y_pred > threshold, 1, 0)\n",
        "print(y_pred)"
      ]
    },
    {
      "cell_type": "code",
      "source": [
        "results = model.evaluate(X_test,  y_test)\n",
        "print(results)"
      ],
      "metadata": {
        "colab": {
          "base_uri": "https://localhost:8080/"
        },
        "id": "AN9DRRGH4-01",
        "outputId": "759ae74a-370c-440f-955b-577bfe63d79e"
      },
      "execution_count": null,
      "outputs": [
        {
          "output_type": "stream",
          "name": "stdout",
          "text": [
            "125/125 [==============================] - 0s 2ms/step - loss: 0.4916 - accuracy: 0.7975\n",
            "[0.491558313369751, 0.7975000143051147]\n"
          ]
        }
      ]
    },
    {
      "cell_type": "code",
      "source": [
        "# Model Accuracy\n",
        "print(\"Accuracy:\",metrics.accuracy_score(y_test, y_pred))\n",
        "print(\"Precision:\",metrics.precision_score(y_test, y_pred))\n",
        "print(\"Recall:\",metrics.recall_score(y_test, y_pred))"
      ],
      "metadata": {
        "id": "ROj4E4eSQZMg",
        "outputId": "317294a0-9f18-4d06-d3a1-c5e93454e96e",
        "colab": {
          "base_uri": "https://localhost:8080/"
        }
      },
      "execution_count": null,
      "outputs": [
        {
          "output_type": "stream",
          "name": "stdout",
          "text": [
            "Accuracy: 0.79725\n",
            "Precision: 0.8784213876511776\n",
            "Recall: 0.69\n"
          ]
        }
      ]
    },
    {
      "cell_type": "markdown",
      "metadata": {
        "id": "O3ZJ8CyFKZZu"
      },
      "source": [
        "Does it improve the results from the Logistic regression using BoW?"
      ]
    },
    {
      "cell_type": "markdown",
      "metadata": {
        "id": "wDA_py8gxJ4m"
      },
      "source": [
        "## **Recurrent Neural Network**"
      ]
    },
    {
      "cell_type": "markdown",
      "source": [
        "Next, we are going to use a LSTM layer into our neural network to learn from long-term dependencies in sequential data."
      ],
      "metadata": {
        "id": "p5G_1xoyTua7"
      }
    },
    {
      "cell_type": "markdown",
      "source": [
        "We need to define a miximum sequence length to batchify our data during training and avoid having a lot of padded texts. To make a good selection you will need to look at the distribution of texts lengths of your data."
      ],
      "metadata": {
        "id": "Uo11cdeKOBJ-"
      }
    },
    {
      "cell_type": "code",
      "execution_count": null,
      "metadata": {
        "id": "UD8CiBmeQtIb",
        "colab": {
          "base_uri": "https://localhost:8080/",
          "height": 472
        },
        "outputId": "6c8ca475-a527-4a43-f964-06eb67068e4b"
      },
      "outputs": [
        {
          "output_type": "display_data",
          "data": {
            "text/plain": [
              "<Figure size 640x480 with 1 Axes>"
            ],
            "image/png": "[encoded data removed]"
          },
          "metadata": {}
        }
      ],
      "source": [
        "import matplotlib.pyplot as plt\n",
        "\n",
        "## TODO: Get lengths of arrays of clean_tokens\n",
        "sentence_lengths = train_data['clean_tokens'].apply(lambda x: len(x))\n",
        "\n",
        "# Create a histogram of the sentence lengths\n",
        "plt.hist(sentence_lengths, bins=50)\n",
        "plt.title(\"Histogram of Sentence Lengths\")\n",
        "plt.xlabel(\"Sentence Length\")\n",
        "plt.ylabel(\"Frequency\")\n",
        "plt.show()"
      ]
    },
    {
      "cell_type": "code",
      "source": [
        "sentence_lengths.info()"
      ],
      "metadata": {
        "colab": {
          "base_uri": "https://localhost:8080/"
        },
        "id": "F6wD0bJCOEDM",
        "outputId": "72ab3499-6975-4632-a884-261c2f745120"
      },
      "execution_count": null,
      "outputs": [
        {
          "output_type": "stream",
          "name": "stdout",
          "text": [
            "<class 'pandas.core.series.Series'>\n",
            "Int64Index: 12000 entries, 5346 to 8280\n",
            "Series name: clean_tokens\n",
            "Non-Null Count  Dtype\n",
            "--------------  -----\n",
            "12000 non-null  int64\n",
            "dtypes: int64(1)\n",
            "memory usage: 445.5 KB\n"
          ]
        }
      ]
    },
    {
      "cell_type": "markdown",
      "source": [
        "#### Vectorizer"
      ],
      "metadata": {
        "id": "fpIwvxmrQFiz"
      }
    },
    {
      "cell_type": "markdown",
      "source": [
        "The vocabulary for the layer must be either supplied on construction or learned via `adapt()`. When this layer is adapted, it will analyze the dataset, determine the frequency of individual string values, and create a vocabulary from them. This vocabulary can have unlimited size or be capped, depending on the configuration options for this layer; if there are more unique values in the input than the maximum vocabulary size, the most frequent terms will be used to create the vocabulary.\n",
        "\n",
        "The processing of each example contains the following steps:\n",
        "\n",
        "1. Standardize each example (usually lowercasing + punctuation stripping)\n",
        "2. Split each example into substrings (usually words)\n",
        "3. Recombine substrings into tokens (usually ngrams)\n",
        "4. Index tokens (associate a unique int value with each token)\n",
        "5. Transform each example into a vector of ints using this index"
      ],
      "metadata": {
        "id": "J0FQGDMMPfzH"
      }
    },
    {
      "cell_type": "code",
      "execution_count": null,
      "metadata": {
        "id": "XwMQZZukpWwV"
      },
      "outputs": [],
      "source": [
        "## TODO: Definition of constants\n",
        "max_features_vocab = 4000    # Only consider the top X words\n",
        "embedding_dim = 300          # Dimension of the embedding\n",
        "seq_length = 90              # Only consider the first X words of each movie review\n",
        "\n",
        "\n",
        "## TODO: Fill in the ...\n",
        "Vectorizer = TextVectorization(\n",
        "    max_tokens=max_features_vocab,\n",
        "    standardize=None,\n",
        "    split=\"whitespace\",\n",
        "    ngrams=None,\n",
        "    output_mode=\"int\",\n",
        "    output_sequence_length=seq_length,\n",
        "    pad_to_max_tokens=False,\n",
        "    vocabulary=None,\n",
        ")"
      ]
    },
    {
      "cell_type": "code",
      "execution_count": null,
      "metadata": {
        "id": "Lv3Cj2z_pry2"
      },
      "outputs": [],
      "source": [
        "#fit the vectorizer on the clean text and extract the corpus vocabulary\n",
        "Vectorizer.adapt(train_data['clean_texts'])\n",
        "vocab = Vectorizer.get_vocabulary()"
      ]
    },
    {
      "cell_type": "code",
      "source": [
        "len(vocab)"
      ],
      "metadata": {
        "id": "6CuysLwplOO9",
        "colab": {
          "base_uri": "https://localhost:8080/"
        },
        "outputId": "1d604c1d-fe95-4dcf-d927-5a583541a7df"
      },
      "execution_count": null,
      "outputs": [
        {
          "output_type": "execute_result",
          "data": {
            "text/plain": [
              "4000"
            ]
          },
          "metadata": {},
          "execution_count": 39
        }
      ]
    },
    {
      "cell_type": "markdown",
      "source": [
        "#### Embedding"
      ],
      "metadata": {
        "id": "22fHzOTLQLLb"
      }
    },
    {
      "cell_type": "code",
      "execution_count": null,
      "metadata": {
        "id": "YroEvsKrqYtM",
        "colab": {
          "base_uri": "https://localhost:8080/",
          "height": 49,
          "referenced_widgets": [
            "d2552509ff334e0281e18c28841fa2e8",
            "20bc259d86a44766a540a3d97234b3c6",
            "c01df861c8d24354ba40494a33050b81",
            "d7d2faa2132442b4b065be95736c2beb",
            "0f10728f64744713ae98128f4f0d9984",
            "3110bfc74e45453f85e335c7419b07ac",
            "5a9979eee1e74a9cafde486b86f0b44d",
            "9994c0f00b3b47c3b3d7ce3f1d7255f7",
            "0eb77cc890cd4b309a3f1eb5ad5efd4d",
            "c22e9286659f42bb89f6c7e55ebf0d93",
            "4ba607a5a2d543439c66c1503f8d7897"
          ]
        },
        "outputId": "03527554-f4c0-45a6-d938-a400f590ef16"
      },
      "outputs": [
        {
          "output_type": "display_data",
          "data": {
            "text/plain": [
              "0it [00:00, ?it/s]"
            ],
            "application/vnd.jupyter.widget-view+json": {
              "version_major": 2,
              "version_minor": 0,
              "model_id": "d2552509ff334e0281e18c28841fa2e8"
            }
          },
          "metadata": {}
        }
      ],
      "source": [
        "#generate the embedding matrix\n",
        "embedding_matrix = np.zeros((max_features_vocab, embedding_dim))\n",
        "for i, word in tqdm_notebook(enumerate(vocab)):\n",
        "    embedding_matrix[i] = nlp(str(word)).vector"
      ]
    },
    {
      "cell_type": "markdown",
      "source": [
        "What is the shape of the embedding matrix?"
      ],
      "metadata": {
        "id": "pOAzXUBFUPae"
      }
    },
    {
      "cell_type": "code",
      "execution_count": null,
      "metadata": {
        "id": "hPEodE_bRjPj",
        "colab": {
          "base_uri": "https://localhost:8080/"
        },
        "outputId": "d287ed97-3c5a-45c9-9ea8-51fa620afec8"
      },
      "outputs": [
        {
          "output_type": "execute_result",
          "data": {
            "text/plain": [
              "(4000, 300)"
            ]
          },
          "metadata": {},
          "execution_count": 41
        }
      ],
      "source": [
        "## TODO\n",
        "embedding_matrix.shape"
      ]
    },
    {
      "cell_type": "markdown",
      "metadata": {
        "id": "A_6uAmthfw_5"
      },
      "source": [
        "Now, let's define the embedding layer with pretrained word vector representation rather than training them. Thus, you need to set trainable to False."
      ]
    },
    {
      "cell_type": "code",
      "execution_count": null,
      "metadata": {
        "id": "UsWaWyYmHWxt"
      },
      "outputs": [],
      "source": [
        "## TODO: Create an embedding layer instance\n",
        "# Load the embedding matrix as the weights matrix for the embedding layer\n",
        "Embedding_layer=tf.keras.layers.Embedding(\n",
        "    input_dim=max_features_vocab,\n",
        "    output_dim=embedding_dim,\n",
        "    weights=[embedding_matrix]\n",
        ")"
      ]
    },
    {
      "cell_type": "markdown",
      "source": [
        "#### Add LSTM"
      ],
      "metadata": {
        "id": "Zvf5lBdbQfBN"
      }
    },
    {
      "cell_type": "markdown",
      "source": [
        "Build the recurrent neural network, considering:\n",
        "* Input dat is a string\n",
        "* Vectorizes transforms string into ints\n",
        "* Embedding layer for word representations\n",
        "* A LSTM layer with 128 units\n",
        "* Dense layers [64, 32]\n",
        "* Last layer outputs a value between 0 and 1"
      ],
      "metadata": {
        "id": "bATUZE5AREKD"
      }
    },
    {
      "cell_type": "code",
      "execution_count": null,
      "metadata": {
        "id": "ISO2S93hrRIS",
        "colab": {
          "base_uri": "https://localhost:8080/"
        },
        "outputId": "9cfd7575-0a55-4151-dace-1c93b2ef7ed8"
      },
      "outputs": [
        {
          "output_type": "stream",
          "name": "stdout",
          "text": [
            "Model: \"sequential_1\"\n",
            "_________________________________________________________________\n",
            " Layer (type)                Output Shape              Param #   \n",
            "=================================================================\n",
            " text_vectorization (TextVec  (None, 90)               0         \n",
            " torization)                                                     \n",
            "                                                                 \n",
            " embedding (Embedding)       (None, 90, 300)           1200000   \n",
            "                                                                 \n",
            " lstm (LSTM)                 (None, 128)               219648    \n",
            "                                                                 \n",
            " dense_5 (Dense)             (None, 64)                8256      \n",
            "                                                                 \n",
            " dense_6 (Dense)             (None, 32)                2080      \n",
            "                                                                 \n",
            " dense_7 (Dense)             (None, 1)                 33        \n",
            "                                                                 \n",
            "=================================================================\n",
            "Total params: 1,430,017\n",
            "Trainable params: 1,430,017\n",
            "Non-trainable params: 0\n",
            "_________________________________________________________________\n",
            "None\n"
          ]
        }
      ],
      "source": [
        "## TODO: Build a neural network with a LSTM\n",
        "lstm = Sequential()\n",
        "\n",
        "lstm.add(Input(shape=(1,), dtype=tf.string))\n",
        "lstm.add(Vectorizer)\n",
        "lstm.add(Embedding_layer)\n",
        "lstm.add(LSTM(128))\n",
        "lstm.add(layers.Dense(64, activation='relu'))\n",
        "lstm.add(layers.Dense(32, activation='relu'))\n",
        "lstm.add(layers.Dense(1, activation='sigmoid'))\n",
        "\n",
        "print(lstm.summary())"
      ]
    },
    {
      "cell_type": "code",
      "execution_count": null,
      "metadata": {
        "id": "ii9vgQWgv_kL",
        "colab": {
          "base_uri": "https://localhost:8080/",
          "height": 121
        },
        "outputId": "f248270a-405d-4ddf-9cd3-ccd49b3a7cb9"
      },
      "outputs": [
        {
          "output_type": "execute_result",
          "data": {
            "image/png": "[encoded data removed]",
            "text/plain": [
              "<IPython.core.display.Image object>"
            ]
          },
          "metadata": {},
          "execution_count": 44
        }
      ],
      "source": [
        "plot_model(model, show_shapes=True, rankdir='LR')"
      ]
    },
    {
      "cell_type": "code",
      "execution_count": null,
      "metadata": {
        "id": "oySkoBdfr8H0",
        "colab": {
          "base_uri": "https://localhost:8080/"
        },
        "outputId": "0b49eade-e96f-4df0-cd13-48144128871a"
      },
      "outputs": [
        {
          "output_type": "stream",
          "name": "stdout",
          "text": [
            "Epoch 1/30\n",
            "96/96 [==============================] - 23s 190ms/step - loss: 0.6284 - accuracy: 0.6274 - val_loss: 0.5191 - val_accuracy: 0.7542\n",
            "Epoch 2/30\n",
            "96/96 [==============================] - 11s 112ms/step - loss: 0.4474 - accuracy: 0.8018 - val_loss: 0.4349 - val_accuracy: 0.7979\n",
            "Epoch 3/30\n",
            "96/96 [==============================] - 7s 74ms/step - loss: 0.3577 - accuracy: 0.8543 - val_loss: 0.4303 - val_accuracy: 0.8075\n",
            "Epoch 4/30\n",
            "96/96 [==============================] - 6s 62ms/step - loss: 0.2765 - accuracy: 0.8901 - val_loss: 0.4481 - val_accuracy: 0.8079\n",
            "Epoch 5/30\n",
            "96/96 [==============================] - 5s 49ms/step - loss: 0.2068 - accuracy: 0.9242 - val_loss: 0.4525 - val_accuracy: 0.8150\n",
            "Epoch 6/30\n",
            "96/96 [==============================] - 3s 32ms/step - loss: 0.1512 - accuracy: 0.9485 - val_loss: 0.6051 - val_accuracy: 0.8087\n",
            "Epoch 7/30\n",
            "96/96 [==============================] - 4s 40ms/step - loss: 0.1351 - accuracy: 0.9550 - val_loss: 0.6177 - val_accuracy: 0.8025\n",
            "Epoch 8/30\n",
            "96/96 [==============================] - 3s 30ms/step - loss: 0.1085 - accuracy: 0.9671 - val_loss: 0.6433 - val_accuracy: 0.8000\n"
          ]
        },
        {
          "output_type": "execute_result",
          "data": {
            "text/plain": [
              "<keras.callbacks.History at 0x7fd38ee742e0>"
            ]
          },
          "metadata": {},
          "execution_count": 45
        }
      ],
      "source": [
        "earlyStopping = EarlyStopping(monitor='val_loss', patience=5, verbose=0, mode='min')\n",
        "\n",
        "lstm.compile(loss=\"binary_crossentropy\", optimizer=\"adam\", metrics=[\"accuracy\"])\n",
        "\n",
        "X_train = train_data['clean_texts']\n",
        "y_train = train_data['label']\n",
        "\n",
        "lstm.fit(X_train,\n",
        "          y_train,\n",
        "          batch_size = 100,\n",
        "          epochs = 30,\n",
        "          validation_split=.2,\n",
        "          callbacks=[earlyStopping],\n",
        "          shuffle=True)"
      ]
    },
    {
      "cell_type": "code",
      "execution_count": null,
      "metadata": {
        "id": "U36BOeZ_EKp-",
        "colab": {
          "base_uri": "https://localhost:8080/"
        },
        "outputId": "29ad87a8-b05a-46e8-f402-15b1b359f45a"
      },
      "outputs": [
        {
          "output_type": "stream",
          "name": "stdout",
          "text": [
            "125/125 [==============================] - 1s 4ms/step\n",
            "[[0]\n",
            " [0]\n",
            " [0]\n",
            " ...\n",
            " [0]\n",
            " [0]\n",
            " [0]]\n",
            "Accuracy: 0.7935\n",
            "Precision: 0.8618988902589396\n",
            "Recall: 0.699\n"
          ]
        }
      ],
      "source": [
        "## TODO: Get predictions from your trained network and compute performance metrics\n",
        "X_test = test_data['clean_texts']\n",
        "\n",
        "y_pred = lstm.predict(X_test)\n",
        "y_pred = y_pred.round(2)\n",
        "\n",
        "threshold = 0.5\n",
        "y_pred = np.where(y_pred > threshold, 1, 0)\n",
        "print(y_pred)\n",
        "\n",
        "# Model Accuracy\n",
        "print(\"Accuracy:\",metrics.accuracy_score(y_test, y_pred))\n",
        "print(\"Precision:\",metrics.precision_score(y_test, y_pred))\n",
        "print(\"Recall:\",metrics.recall_score(y_test, y_pred))"
      ]
    },
    {
      "cell_type": "markdown",
      "source": [
        "We achieved a better performance than Dense Neural Network with half of the parameters!"
      ],
      "metadata": {
        "id": "3tYADFmYmWKL"
      }
    },
    {
      "cell_type": "markdown",
      "metadata": {
        "id": "YL9pPQDpYMUJ"
      },
      "source": [
        "## Bidirectional LSTM"
      ]
    },
    {
      "cell_type": "markdown",
      "source": [
        "Bidirectional LSTMs are an extension of LSTMs. The basic idea behind a bidirectional LSTM is to run two separate LSTM layers on the input sequence, one in the forward direction and one in the backward direction. This allows the network to capture information from both past and future contexts of each input element, and combine them to make better predictions."
      ],
      "metadata": {
        "id": "YnMMPCcf7nVM"
      }
    },
    {
      "cell_type": "markdown",
      "source": [
        "Let's implement a neural network with a bidirectional LSTM layer of 64 units and compare the performance with previous networks."
      ],
      "metadata": {
        "id": "cjZruszZ8xxf"
      }
    },
    {
      "cell_type": "code",
      "execution_count": null,
      "metadata": {
        "id": "sfeQUSNFYPET"
      },
      "outputs": [],
      "source": [
        "from keras.layers import Bidirectional"
      ]
    },
    {
      "cell_type": "code",
      "execution_count": null,
      "metadata": {
        "id": "23Ve1RdfYXHg",
        "colab": {
          "base_uri": "https://localhost:8080/"
        },
        "outputId": "33b1fa80-d42f-4e23-c413-0d1572e72ff5"
      },
      "outputs": [
        {
          "output_type": "stream",
          "name": "stdout",
          "text": [
            "Model: \"sequential_2\"\n",
            "_________________________________________________________________\n",
            " Layer (type)                Output Shape              Param #   \n",
            "=================================================================\n",
            " text_vectorization (TextVec  (None, 90)               0         \n",
            " torization)                                                     \n",
            "                                                                 \n",
            " embedding (Embedding)       (None, 90, 300)           1200000   \n",
            "                                                                 \n",
            " bidirectional (Bidirectiona  (None, 128)              186880    \n",
            " l)                                                              \n",
            "                                                                 \n",
            " dense_8 (Dense)             (None, 64)                8256      \n",
            "                                                                 \n",
            " dense_9 (Dense)             (None, 32)                2080      \n",
            "                                                                 \n",
            " dense_10 (Dense)            (None, 1)                 33        \n",
            "                                                                 \n",
            "=================================================================\n",
            "Total params: 1,397,249\n",
            "Trainable params: 1,397,249\n",
            "Non-trainable params: 0\n",
            "_________________________________________________________________\n",
            "None\n"
          ]
        }
      ],
      "source": [
        "## TODO: Implement a neural network with a bidirectional LSTM\n",
        "bi_lstm = Sequential()\n",
        "\n",
        "bi_lstm.add(Input(shape=(1,), dtype=tf.string))\n",
        "bi_lstm.add(Vectorizer)\n",
        "bi_lstm.add(Embedding_layer)\n",
        "bi_lstm.add(Bidirectional(layer=LSTM(64)))\n",
        "bi_lstm.add(layers.Dense(64, activation='relu'))\n",
        "bi_lstm.add(layers.Dense(32, activation='relu'))\n",
        "bi_lstm.add(layers.Dense(1, activation='sigmoid'))\n",
        "\n",
        "print(bi_lstm.summary())"
      ]
    },
    {
      "cell_type": "code",
      "execution_count": null,
      "metadata": {
        "id": "Us2CHWDbYXHh",
        "colab": {
          "base_uri": "https://localhost:8080/"
        },
        "outputId": "af831b96-3570-43fd-890d-deb4c33deead"
      },
      "outputs": [
        {
          "output_type": "stream",
          "name": "stdout",
          "text": [
            "Epoch 1/30\n",
            "96/96 [==============================] - 20s 161ms/step - loss: 0.5781 - accuracy: 0.6814 - val_loss: 0.4573 - val_accuracy: 0.7892\n",
            "Epoch 2/30\n",
            "96/96 [==============================] - 9s 91ms/step - loss: 0.3818 - accuracy: 0.8314 - val_loss: 0.4035 - val_accuracy: 0.8146\n",
            "Epoch 3/30\n",
            "96/96 [==============================] - 7s 78ms/step - loss: 0.2823 - accuracy: 0.8821 - val_loss: 0.4094 - val_accuracy: 0.8221\n",
            "Epoch 4/30\n",
            "96/96 [==============================] - 4s 38ms/step - loss: 0.1896 - accuracy: 0.9272 - val_loss: 0.4755 - val_accuracy: 0.8171\n",
            "Epoch 5/30\n",
            "96/96 [==============================] - 4s 42ms/step - loss: 0.1233 - accuracy: 0.9565 - val_loss: 0.5281 - val_accuracy: 0.8179\n",
            "Epoch 6/30\n",
            "96/96 [==============================] - 4s 35ms/step - loss: 0.0729 - accuracy: 0.9760 - val_loss: 0.6266 - val_accuracy: 0.8208\n",
            "Epoch 7/30\n",
            "96/96 [==============================] - 3s 26ms/step - loss: 0.0443 - accuracy: 0.9870 - val_loss: 0.7661 - val_accuracy: 0.8071\n"
          ]
        },
        {
          "output_type": "execute_result",
          "data": {
            "text/plain": [
              "<keras.callbacks.History at 0x7fd403b296a0>"
            ]
          },
          "metadata": {},
          "execution_count": 49
        }
      ],
      "source": [
        "## TODO: Fit the model\n",
        "bi_lstm.compile(loss=\"binary_crossentropy\", optimizer=\"adam\", metrics=[\"accuracy\"])\n",
        "\n",
        "X_train = train_data['clean_texts']\n",
        "y_train = train_data['label']\n",
        "\n",
        "bi_lstm.fit(X_train,\n",
        "          y_train,\n",
        "          batch_size = 100,\n",
        "          epochs = 30,\n",
        "          validation_split=.2,\n",
        "          callbacks=[earlyStopping],\n",
        "          shuffle=True)"
      ]
    },
    {
      "cell_type": "code",
      "execution_count": null,
      "metadata": {
        "id": "ZuoFQFS-YXHh",
        "colab": {
          "base_uri": "https://localhost:8080/"
        },
        "outputId": "d077e7c0-a630-459a-853c-e72bb6828260"
      },
      "outputs": [
        {
          "output_type": "stream",
          "name": "stdout",
          "text": [
            "125/125 [==============================] - 1s 5ms/step\n",
            "[[1]\n",
            " [0]\n",
            " [0]\n",
            " ...\n",
            " [0]\n",
            " [0]\n",
            " [1]]\n",
            "Accuracy: 0.79175\n",
            "Precision: 0.8336192109777015\n",
            "Recall: 0.729\n"
          ]
        }
      ],
      "source": [
        "## TODO: Predict with a test dataset\n",
        "y_pred = bi_lstm.predict(X_test)\n",
        "y_pred = y_pred.round(2)\n",
        "\n",
        "threshold = 0.5\n",
        "y_pred = np.where(y_pred > threshold, 1, 0)\n",
        "print(y_pred)\n",
        "\n",
        "\n",
        "# Model Accuracy\n",
        "print(\"Accuracy:\",metrics.accuracy_score(y_test, y_pred))\n",
        "print(\"Precision:\",metrics.precision_score(y_test, y_pred))\n",
        "print(\"Recall:\",metrics.recall_score(y_test, y_pred))"
      ]
    },
    {
      "cell_type": "markdown",
      "metadata": {
        "id": "u56DtWophaLO"
      },
      "source": [
        "## BERT classifier\n",
        "Finally, in our text classification examples, we will show how to use a Transformer model, in this case BERT. From the encoder/decoder tuple, we will use only the encoder component to obtain a proper semantic representation of the reviews.\n",
        "With this Embedding we then apply the usual dense layer for learning the classifier for our particular application.\n",
        "In this example, we also take advantage to show how to use the Tensorflow data framework for dealing with heavy datasets if required."
      ]
    },
    {
      "cell_type": "code",
      "execution_count": null,
      "metadata": {
        "id": "1tN_HDzKhmq5",
        "colab": {
          "base_uri": "https://localhost:8080/"
        },
        "outputId": "530ef2b8-543f-48fb-f646-e9c9f96280ae"
      },
      "outputs": [
        {
          "output_type": "stream",
          "name": "stdout",
          "text": [
            "\u001b[2K     \u001b[90m━━━━━━━━━━━━━━━━━━━━━━━━━━━━━━━━━━━━━━━━\u001b[0m \u001b[32m6.0/6.0 MB\u001b[0m \u001b[31m44.1 MB/s\u001b[0m eta \u001b[36m0:00:00\u001b[0m\n",
            "\u001b[2K     \u001b[90m━━━━━━━━━━━━━━━━━━━━━━━━━━━━━━━━━━━━━━━━\u001b[0m \u001b[32m2.6/2.6 MB\u001b[0m \u001b[31m31.7 MB/s\u001b[0m eta \u001b[36m0:00:00\u001b[0m\n",
            "\u001b[2K     \u001b[90m━━━━━━━━━━━━━━━━━━━━━━━━━━━━━━━━━━━━━━\u001b[0m \u001b[32m591.0/591.0 kB\u001b[0m \u001b[31m57.3 MB/s\u001b[0m eta \u001b[36m0:00:00\u001b[0m\n",
            "\u001b[2K     \u001b[90m━━━━━━━━━━━━━━━━━━━━━━━━━━━━━━━━━━━━━━\u001b[0m \u001b[32m118.9/118.9 kB\u001b[0m \u001b[31m16.2 MB/s\u001b[0m eta \u001b[36m0:00:00\u001b[0m\n",
            "\u001b[2K     \u001b[90m━━━━━━━━━━━━━━━━━━━━━━━━━━━━━━━━━━━━━━\u001b[0m \u001b[32m240.6/240.6 kB\u001b[0m \u001b[31m23.0 MB/s\u001b[0m eta \u001b[36m0:00:00\u001b[0m\n",
            "\u001b[2K     \u001b[90m━━━━━━━━━━━━━━━━━━━━━━━━━━━━━━━━━━━━━━\u001b[0m \u001b[32m630.1/630.1 kB\u001b[0m \u001b[31m55.6 MB/s\u001b[0m eta \u001b[36m0:00:00\u001b[0m\n",
            "\u001b[2K     \u001b[90m━━━━━━━━━━━━━━━━━━━━━━━━━━━━━━━━━━━━━━━━\u001b[0m \u001b[32m43.6/43.6 kB\u001b[0m \u001b[31m5.7 MB/s\u001b[0m eta \u001b[36m0:00:00\u001b[0m\n",
            "\u001b[?25h  Preparing metadata (setup.py) ... \u001b[?25l\u001b[?25hdone\n",
            "\u001b[2K     \u001b[90m━━━━━━━━━━━━━━━━━━━━━━━━━━━━━━━━━━━━━━━━\u001b[0m \u001b[32m17.1/17.1 MB\u001b[0m \u001b[31m31.6 MB/s\u001b[0m eta \u001b[36m0:00:00\u001b[0m\n",
            "\u001b[?25h  Building wheel for seqeval (setup.py) ... \u001b[?25l\u001b[?25hdone\n"
          ]
        }
      ],
      "source": [
        "# A dependency of the preprocessing for BERT inputs\n",
        "!pip install -q -U tensorflow-text\n",
        "!pip install -q tf-models-official"
      ]
    },
    {
      "cell_type": "code",
      "execution_count": null,
      "metadata": {
        "id": "72uuvfzAheMn",
        "colab": {
          "base_uri": "https://localhost:8080/"
        },
        "outputId": "3c9166aa-26c8-47c8-f194-a03d569bf231"
      },
      "outputs": [
        {
          "output_type": "stream",
          "name": "stderr",
          "text": [
            "/usr/local/lib/python3.9/dist-packages/tensorflow_addons/utils/tfa_eol_msg.py:23: UserWarning: \n",
            "\n",
            "TensorFlow Addons (TFA) has ended development and introduction of new features.\n",
            "TFA has entered a minimal maintenance and release mode until a planned end of life in May 2024.\n",
            "Please modify downstream libraries to take dependencies from other repositories in our TensorFlow community (e.g. Keras, Keras-CV, and Keras-NLP). \n",
            "\n",
            "For more information see: https://github.com/tensorflow/addons/issues/2807 \n",
            "\n",
            "  warnings.warn(\n"
          ]
        }
      ],
      "source": [
        "import tensorflow as tf\n",
        "import tensorflow_hub as hub\n",
        "import tensorflow_text as text\n",
        "from official.nlp import optimization  # to create AdamW optimizer\n",
        "\n",
        "import matplotlib.pyplot as plt"
      ]
    },
    {
      "cell_type": "code",
      "execution_count": null,
      "metadata": {
        "id": "2vRHtRpKijeh",
        "colab": {
          "base_uri": "https://localhost:8080/"
        },
        "outputId": "853a8188-3d02-4576-c0fa-a33f512d8c4a"
      },
      "outputs": [
        {
          "output_type": "stream",
          "name": "stdout",
          "text": [
            "BERT model selected           : https://tfhub.dev/tensorflow/bert_multi_cased_L-12_H-768_A-12/3\n",
            "Preprocess model auto-selected: https://tfhub.dev/tensorflow/bert_multi_cased_preprocess/3\n"
          ]
        }
      ],
      "source": [
        "#@title Choose a BERT model to fine-tune\n",
        "\n",
        "bert_model_name = 'bert_multi_cased_L-12_H-768_A-12'  #@param [\"bert_en_uncased_L-12_H-768_A-12\", \"bert_en_cased_L-12_H-768_A-12\", \"bert_multi_cased_L-12_H-768_A-12\", \"small_bert/bert_en_uncased_L-2_H-128_A-2\", \"small_bert/bert_en_uncased_L-2_H-256_A-4\", \"small_bert/bert_en_uncased_L-2_H-512_A-8\", \"small_bert/bert_en_uncased_L-2_H-768_A-12\", \"small_bert/bert_en_uncased_L-4_H-128_A-2\", \"small_bert/bert_en_uncased_L-4_H-256_A-4\", \"small_bert/bert_en_uncased_L-4_H-512_A-8\", \"small_bert/bert_en_uncased_L-4_H-768_A-12\", \"small_bert/bert_en_uncased_L-6_H-128_A-2\", \"small_bert/bert_en_uncased_L-6_H-256_A-4\", \"small_bert/bert_en_uncased_L-6_H-512_A-8\", \"small_bert/bert_en_uncased_L-6_H-768_A-12\", \"small_bert/bert_en_uncased_L-8_H-128_A-2\", \"small_bert/bert_en_uncased_L-8_H-256_A-4\", \"small_bert/bert_en_uncased_L-8_H-512_A-8\", \"small_bert/bert_en_uncased_L-8_H-768_A-12\", \"small_bert/bert_en_uncased_L-10_H-128_A-2\", \"small_bert/bert_en_uncased_L-10_H-256_A-4\", \"small_bert/bert_en_uncased_L-10_H-512_A-8\", \"small_bert/bert_en_uncased_L-10_H-768_A-12\", \"small_bert/bert_en_uncased_L-12_H-128_A-2\", \"small_bert/bert_en_uncased_L-12_H-256_A-4\", \"small_bert/bert_en_uncased_L-12_H-512_A-8\", \"small_bert/bert_en_uncased_L-12_H-768_A-12\", \"albert_en_base\", \"electra_small\", \"electra_base\", \"experts_pubmed\", \"experts_wiki_books\", \"talking-heads_base\"]\n",
        "\n",
        "map_name_to_handle = {\n",
        "    'bert_en_uncased_L-12_H-768_A-12':\n",
        "        'https://tfhub.dev/tensorflow/bert_en_uncased_L-12_H-768_A-12/3',\n",
        "    'bert_en_cased_L-12_H-768_A-12':\n",
        "        'https://tfhub.dev/tensorflow/bert_en_cased_L-12_H-768_A-12/3',\n",
        "    'bert_multi_cased_L-12_H-768_A-12':\n",
        "        'https://tfhub.dev/tensorflow/bert_multi_cased_L-12_H-768_A-12/3',\n",
        "    'small_bert/bert_en_uncased_L-2_H-128_A-2':\n",
        "        'https://tfhub.dev/tensorflow/small_bert/bert_en_uncased_L-2_H-128_A-2/1',\n",
        "    'small_bert/bert_en_uncased_L-2_H-256_A-4':\n",
        "        'https://tfhub.dev/tensorflow/small_bert/bert_en_uncased_L-2_H-256_A-4/1',\n",
        "    'small_bert/bert_en_uncased_L-2_H-512_A-8':\n",
        "        'https://tfhub.dev/tensorflow/small_bert/bert_en_uncased_L-2_H-512_A-8/1',\n",
        "    'small_bert/bert_en_uncased_L-2_H-768_A-12':\n",
        "        'https://tfhub.dev/tensorflow/small_bert/bert_en_uncased_L-2_H-768_A-12/1',\n",
        "    'small_bert/bert_en_uncased_L-4_H-128_A-2':\n",
        "        'https://tfhub.dev/tensorflow/small_bert/bert_en_uncased_L-4_H-128_A-2/1',\n",
        "    'small_bert/bert_en_uncased_L-4_H-256_A-4':\n",
        "        'https://tfhub.dev/tensorflow/small_bert/bert_en_uncased_L-4_H-256_A-4/1',\n",
        "    'small_bert/bert_en_uncased_L-4_H-512_A-8':\n",
        "        'https://tfhub.dev/tensorflow/small_bert/bert_en_uncased_L-4_H-512_A-8/1',\n",
        "    'small_bert/bert_en_uncased_L-4_H-768_A-12':\n",
        "        'https://tfhub.dev/tensorflow/small_bert/bert_en_uncased_L-4_H-768_A-12/1',\n",
        "    'small_bert/bert_en_uncased_L-6_H-128_A-2':\n",
        "        'https://tfhub.dev/tensorflow/small_bert/bert_en_uncased_L-6_H-128_A-2/1',\n",
        "    'small_bert/bert_en_uncased_L-6_H-256_A-4':\n",
        "        'https://tfhub.dev/tensorflow/small_bert/bert_en_uncased_L-6_H-256_A-4/1',\n",
        "    'small_bert/bert_en_uncased_L-6_H-512_A-8':\n",
        "        'https://tfhub.dev/tensorflow/small_bert/bert_en_uncased_L-6_H-512_A-8/1',\n",
        "    'small_bert/bert_en_uncased_L-6_H-768_A-12':\n",
        "        'https://tfhub.dev/tensorflow/small_bert/bert_en_uncased_L-6_H-768_A-12/1',\n",
        "    'small_bert/bert_en_uncased_L-8_H-128_A-2':\n",
        "        'https://tfhub.dev/tensorflow/small_bert/bert_en_uncased_L-8_H-128_A-2/1',\n",
        "    'small_bert/bert_en_uncased_L-8_H-256_A-4':\n",
        "        'https://tfhub.dev/tensorflow/small_bert/bert_en_uncased_L-8_H-256_A-4/1',\n",
        "    'small_bert/bert_en_uncased_L-8_H-512_A-8':\n",
        "        'https://tfhub.dev/tensorflow/small_bert/bert_en_uncased_L-8_H-512_A-8/1',\n",
        "    'small_bert/bert_en_uncased_L-8_H-768_A-12':\n",
        "        'https://tfhub.dev/tensorflow/small_bert/bert_en_uncased_L-8_H-768_A-12/1',\n",
        "    'small_bert/bert_en_uncased_L-10_H-128_A-2':\n",
        "        'https://tfhub.dev/tensorflow/small_bert/bert_en_uncased_L-10_H-128_A-2/1',\n",
        "    'small_bert/bert_en_uncased_L-10_H-256_A-4':\n",
        "        'https://tfhub.dev/tensorflow/small_bert/bert_en_uncased_L-10_H-256_A-4/1',\n",
        "    'small_bert/bert_en_uncased_L-10_H-512_A-8':\n",
        "        'https://tfhub.dev/tensorflow/small_bert/bert_en_uncased_L-10_H-512_A-8/1',\n",
        "    'small_bert/bert_en_uncased_L-10_H-768_A-12':\n",
        "        'https://tfhub.dev/tensorflow/small_bert/bert_en_uncased_L-10_H-768_A-12/1',\n",
        "    'small_bert/bert_en_uncased_L-12_H-128_A-2':\n",
        "        'https://tfhub.dev/tensorflow/small_bert/bert_en_uncased_L-12_H-128_A-2/1',\n",
        "    'small_bert/bert_en_uncased_L-12_H-256_A-4':\n",
        "        'https://tfhub.dev/tensorflow/small_bert/bert_en_uncased_L-12_H-256_A-4/1',\n",
        "    'small_bert/bert_en_uncased_L-12_H-512_A-8':\n",
        "        'https://tfhub.dev/tensorflow/small_bert/bert_en_uncased_L-12_H-512_A-8/1',\n",
        "    'small_bert/bert_en_uncased_L-12_H-768_A-12':\n",
        "        'https://tfhub.dev/tensorflow/small_bert/bert_en_uncased_L-12_H-768_A-12/1',\n",
        "    'albert_en_base':\n",
        "        'https://tfhub.dev/tensorflow/albert_en_base/2',\n",
        "    'electra_small':\n",
        "        'https://tfhub.dev/google/electra_small/2',\n",
        "    'electra_base':\n",
        "        'https://tfhub.dev/google/electra_base/2',\n",
        "    'experts_pubmed':\n",
        "        'https://tfhub.dev/google/experts/bert/pubmed/2',\n",
        "    'experts_wiki_books':\n",
        "        'https://tfhub.dev/google/experts/bert/wiki_books/2',\n",
        "    'talking-heads_base':\n",
        "        'https://tfhub.dev/tensorflow/talkheads_ggelu_bert_en_base/1',\n",
        "}\n",
        "\n",
        "map_model_to_preprocess = {\n",
        "    'bert_en_uncased_L-12_H-768_A-12':\n",
        "        'https://tfhub.dev/tensorflow/bert_en_uncased_preprocess/3',\n",
        "    'bert_en_cased_L-12_H-768_A-12':\n",
        "        'https://tfhub.dev/tensorflow/bert_en_cased_preprocess/3',\n",
        "    'small_bert/bert_en_uncased_L-2_H-128_A-2':\n",
        "        'https://tfhub.dev/tensorflow/bert_en_uncased_preprocess/3',\n",
        "    'small_bert/bert_en_uncased_L-2_H-256_A-4':\n",
        "        'https://tfhub.dev/tensorflow/bert_en_uncased_preprocess/3',\n",
        "    'small_bert/bert_en_uncased_L-2_H-512_A-8':\n",
        "        'https://tfhub.dev/tensorflow/bert_en_uncased_preprocess/3',\n",
        "    'small_bert/bert_en_uncased_L-2_H-768_A-12':\n",
        "        'https://tfhub.dev/tensorflow/bert_en_uncased_preprocess/3',\n",
        "    'small_bert/bert_en_uncased_L-4_H-128_A-2':\n",
        "        'https://tfhub.dev/tensorflow/bert_en_uncased_preprocess/3',\n",
        "    'small_bert/bert_en_uncased_L-4_H-256_A-4':\n",
        "        'https://tfhub.dev/tensorflow/bert_en_uncased_preprocess/3',\n",
        "    'small_bert/bert_en_uncased_L-4_H-512_A-8':\n",
        "        'https://tfhub.dev/tensorflow/bert_en_uncased_preprocess/3',\n",
        "    'small_bert/bert_en_uncased_L-4_H-768_A-12':\n",
        "        'https://tfhub.dev/tensorflow/bert_en_uncased_preprocess/3',\n",
        "    'small_bert/bert_en_uncased_L-6_H-128_A-2':\n",
        "        'https://tfhub.dev/tensorflow/bert_en_uncased_preprocess/3',\n",
        "    'small_bert/bert_en_uncased_L-6_H-256_A-4':\n",
        "        'https://tfhub.dev/tensorflow/bert_en_uncased_preprocess/3',\n",
        "    'small_bert/bert_en_uncased_L-6_H-512_A-8':\n",
        "        'https://tfhub.dev/tensorflow/bert_en_uncased_preprocess/3',\n",
        "    'small_bert/bert_en_uncased_L-6_H-768_A-12':\n",
        "        'https://tfhub.dev/tensorflow/bert_en_uncased_preprocess/3',\n",
        "    'small_bert/bert_en_uncased_L-8_H-128_A-2':\n",
        "        'https://tfhub.dev/tensorflow/bert_en_uncased_preprocess/3',\n",
        "    'small_bert/bert_en_uncased_L-8_H-256_A-4':\n",
        "        'https://tfhub.dev/tensorflow/bert_en_uncased_preprocess/3',\n",
        "    'small_bert/bert_en_uncased_L-8_H-512_A-8':\n",
        "        'https://tfhub.dev/tensorflow/bert_en_uncased_preprocess/3',\n",
        "    'small_bert/bert_en_uncased_L-8_H-768_A-12':\n",
        "        'https://tfhub.dev/tensorflow/bert_en_uncased_preprocess/3',\n",
        "    'small_bert/bert_en_uncased_L-10_H-128_A-2':\n",
        "        'https://tfhub.dev/tensorflow/bert_en_uncased_preprocess/3',\n",
        "    'small_bert/bert_en_uncased_L-10_H-256_A-4':\n",
        "        'https://tfhub.dev/tensorflow/bert_en_uncased_preprocess/3',\n",
        "    'small_bert/bert_en_uncased_L-10_H-512_A-8':\n",
        "        'https://tfhub.dev/tensorflow/bert_en_uncased_preprocess/3',\n",
        "    'small_bert/bert_en_uncased_L-10_H-768_A-12':\n",
        "        'https://tfhub.dev/tensorflow/bert_en_uncased_preprocess/3',\n",
        "    'small_bert/bert_en_uncased_L-12_H-128_A-2':\n",
        "        'https://tfhub.dev/tensorflow/bert_en_uncased_preprocess/3',\n",
        "    'small_bert/bert_en_uncased_L-12_H-256_A-4':\n",
        "        'https://tfhub.dev/tensorflow/bert_en_uncased_preprocess/3',\n",
        "    'small_bert/bert_en_uncased_L-12_H-512_A-8':\n",
        "        'https://tfhub.dev/tensorflow/bert_en_uncased_preprocess/3',\n",
        "    'small_bert/bert_en_uncased_L-12_H-768_A-12':\n",
        "        'https://tfhub.dev/tensorflow/bert_en_uncased_preprocess/3',\n",
        "    'bert_multi_cased_L-12_H-768_A-12':\n",
        "        'https://tfhub.dev/tensorflow/bert_multi_cased_preprocess/3',\n",
        "    'albert_en_base':\n",
        "        'https://tfhub.dev/tensorflow/albert_en_preprocess/3',\n",
        "    'electra_small':\n",
        "        'https://tfhub.dev/tensorflow/bert_en_uncased_preprocess/3',\n",
        "    'electra_base':\n",
        "        'https://tfhub.dev/tensorflow/bert_en_uncased_preprocess/3',\n",
        "    'experts_pubmed':\n",
        "        'https://tfhub.dev/tensorflow/bert_en_uncased_preprocess/3',\n",
        "    'experts_wiki_books':\n",
        "        'https://tfhub.dev/tensorflow/bert_en_uncased_preprocess/3',\n",
        "    'talking-heads_base':\n",
        "        'https://tfhub.dev/tensorflow/bert_en_uncased_preprocess/3',\n",
        "}\n",
        "\n",
        "tfhub_handle_encoder = map_name_to_handle[bert_model_name]\n",
        "tfhub_handle_preprocess = map_model_to_preprocess[bert_model_name]\n",
        "\n",
        "print(f'BERT model selected           : {tfhub_handle_encoder}')\n",
        "print(f'Preprocess model auto-selected: {tfhub_handle_preprocess}')"
      ]
    },
    {
      "cell_type": "code",
      "execution_count": null,
      "metadata": {
        "id": "bAekiV5qiXa4"
      },
      "outputs": [],
      "source": [
        "bert_preprocess_model = hub.KerasLayer(tfhub_handle_preprocess)"
      ]
    },
    {
      "cell_type": "markdown",
      "metadata": {
        "id": "mNF62ZHhPGGJ"
      },
      "source": [
        "As one can see, the model, after including our BERT layer is quite simple, as the representation obtained using the pretrained model is good enough to learn the language and it only needs some adjustment to learn the concrete classification problem."
      ]
    },
    {
      "cell_type": "code",
      "execution_count": null,
      "metadata": {
        "id": "P5aOscN3i3FH"
      },
      "outputs": [],
      "source": [
        "def build_classifier_model():\n",
        "  text_input = tf.keras.layers.Input(shape=(), dtype=tf.string, name='text')\n",
        "  preprocessing_layer = hub.KerasLayer(tfhub_handle_preprocess, name='preprocessing')\n",
        "  encoder_inputs = preprocessing_layer(text_input)\n",
        "  encoder = hub.KerasLayer(tfhub_handle_encoder, trainable=True, name='BERT_encoder')\n",
        "  outputs = encoder(encoder_inputs)\n",
        "  net = outputs['pooled_output']\n",
        "  net = tf.keras.layers.Dropout(0.1)(net)\n",
        "  net = tf.keras.layers.Dense(1, activation='sigmoid', name='classifier')(net)\n",
        "  return tf.keras.Model(text_input, net)"
      ]
    },
    {
      "cell_type": "code",
      "execution_count": null,
      "metadata": {
        "id": "5e4xQCoLi9qf"
      },
      "outputs": [],
      "source": [
        "bert_classifier_model = build_classifier_model()"
      ]
    },
    {
      "cell_type": "code",
      "execution_count": null,
      "metadata": {
        "id": "yFRxzfgRjBOv",
        "colab": {
          "base_uri": "https://localhost:8080/",
          "height": 466
        },
        "outputId": "f14ca5f8-0711-4558-b0ec-a7071c9df313"
      },
      "outputs": [
        {
          "output_type": "execute_result",
          "data": {
            "image/png": "[encoded data removed]",
            "text/plain": [
              "<IPython.core.display.Image object>"
            ]
          },
          "metadata": {},
          "execution_count": 57
        }
      ],
      "source": [
        "tf.keras.utils.plot_model(bert_classifier_model)"
      ]
    },
    {
      "cell_type": "code",
      "execution_count": null,
      "metadata": {
        "id": "x_DWopw5jHAQ"
      },
      "outputs": [],
      "source": [
        "loss = tf.keras.losses.BinaryCrossentropy(from_logits=True)\n",
        "metrics_binAcc = tf.metrics.BinaryAccuracy()"
      ]
    },
    {
      "cell_type": "markdown",
      "metadata": {
        "id": "NNDKmEEzRp8k"
      },
      "source": [
        "Here we use the dataset framework from tensorflow as it is needed by the pretrained hub models."
      ]
    },
    {
      "cell_type": "code",
      "execution_count": null,
      "metadata": {
        "id": "Xq7wGRHbkVhI",
        "colab": {
          "base_uri": "https://localhost:8080/"
        },
        "outputId": "51b44487-477d-4ee9-def0-e33e58e4ddcd"
      },
      "outputs": [
        {
          "output_type": "stream",
          "name": "stdout",
          "text": [
            "Found 25000 files belonging to 2 classes.\n",
            "Using 20000 files for training.\n",
            "Found 25000 files belonging to 2 classes.\n",
            "Using 5000 files for validation.\n",
            "Found 25000 files belonging to 2 classes.\n"
          ]
        }
      ],
      "source": [
        "AUTOTUNE = tf.data.AUTOTUNE\n",
        "batch_size = 32 #se der erro, mudar de 64 para 32\n",
        "seed = 42\n",
        "\n",
        "raw_train_ds = tf.keras.preprocessing.text_dataset_from_directory(\n",
        "    'aclImdb/train',\n",
        "    batch_size=batch_size,\n",
        "    validation_split=0.2,\n",
        "    subset='training',\n",
        "    seed=seed)\n",
        "\n",
        "class_names = raw_train_ds.class_names\n",
        "train_ds = raw_train_ds.cache().prefetch(buffer_size=AUTOTUNE)\n",
        "\n",
        "val_ds = tf.keras.preprocessing.text_dataset_from_directory(\n",
        "    'aclImdb/train',\n",
        "    batch_size=batch_size,\n",
        "    validation_split=0.2,\n",
        "    subset='validation',\n",
        "    seed=seed)\n",
        "\n",
        "val_ds = val_ds.cache().prefetch(buffer_size=AUTOTUNE)\n",
        "\n",
        "test_ds = tf.keras.preprocessing.text_dataset_from_directory(\n",
        "    'aclImdb/test',\n",
        "    batch_size=batch_size)\n",
        "\n",
        "test_ds = test_ds.cache().prefetch(buffer_size=AUTOTUNE)"
      ]
    },
    {
      "cell_type": "code",
      "execution_count": null,
      "metadata": {
        "id": "QlM8xRRBjTj4"
      },
      "outputs": [],
      "source": [
        "epochs = 2\n",
        "steps_per_epoch = tf.data.experimental.cardinality(train_ds).numpy()\n",
        "num_train_steps = steps_per_epoch * epochs\n",
        "num_warmup_steps = int(0.1*num_train_steps)\n",
        "\n",
        "init_lr = 1e-4\n",
        "optimizer = optimization.create_optimizer(init_lr=init_lr,\n",
        "                                          num_train_steps=num_train_steps,\n",
        "                                          num_warmup_steps=num_warmup_steps,\n",
        "                                          optimizer_type='adamw')"
      ]
    },
    {
      "cell_type": "code",
      "execution_count": null,
      "metadata": {
        "id": "cQFAbwYhllA5"
      },
      "outputs": [],
      "source": [
        "bert_classifier_model.compile(optimizer=optimizer,\n",
        "                         loss=loss,\n",
        "                         metrics=metrics_binAcc)"
      ]
    },
    {
      "cell_type": "code",
      "execution_count": null,
      "metadata": {
        "id": "y110jVliln-H",
        "colab": {
          "base_uri": "https://localhost:8080/"
        },
        "outputId": "953e5629-e505-45f7-e84e-55b55f3d9d2d"
      },
      "outputs": [
        {
          "output_type": "stream",
          "name": "stdout",
          "text": [
            "Training model with https://tfhub.dev/tensorflow/bert_multi_cased_L-12_H-768_A-12/3\n",
            "Epoch 1/2\n"
          ]
        },
        {
          "output_type": "stream",
          "name": "stderr",
          "text": [
            "/usr/local/lib/python3.9/dist-packages/keras/backend.py:5703: UserWarning: \"`binary_crossentropy` received `from_logits=True`, but the `output` argument was produced by a Sigmoid activation and thus does not represent logits. Was this intended?\n",
            "  output, from_logits = _get_logits(\n"
          ]
        },
        {
          "output_type": "stream",
          "name": "stdout",
          "text": [
            "625/625 [==============================] - 750s 1s/step - loss: 0.4889 - binary_accuracy: 0.7607 - val_loss: 0.3923 - val_binary_accuracy: 0.8164\n",
            "Epoch 2/2\n",
            "625/625 [==============================] - 727s 1s/step - loss: 0.2758 - binary_accuracy: 0.8864 - val_loss: 0.3670 - val_binary_accuracy: 0.8514\n"
          ]
        }
      ],
      "source": [
        "print(f'Training model with {tfhub_handle_encoder}')\n",
        "history = bert_classifier_model.fit(x=train_ds,\n",
        "                               validation_data=val_ds,\n",
        "                               epochs=epochs)"
      ]
    },
    {
      "cell_type": "code",
      "execution_count": null,
      "metadata": {
        "id": "cjwT1CNrKlOY",
        "colab": {
          "base_uri": "https://localhost:8080/"
        },
        "outputId": "fadc7f77-f928-4f19-90b0-7ae4e363caf3"
      },
      "outputs": [
        {
          "output_type": "stream",
          "name": "stdout",
          "text": [
            "782/782 [==============================] - 301s 385ms/step - loss: 0.3573 - binary_accuracy: 0.8536\n"
          ]
        },
        {
          "output_type": "execute_result",
          "data": {
            "text/plain": [
              "[0.3572671115398407, 0.853600025177002]"
            ]
          },
          "metadata": {},
          "execution_count": 63
        }
      ],
      "source": [
        "# Evaluate with test dataset\n",
        "bert_classifier_model.evaluate(test_ds)"
      ]
    },
    {
      "cell_type": "code",
      "execution_count": null,
      "metadata": {
        "id": "PkhpU8nDKp2d",
        "colab": {
          "base_uri": "https://localhost:8080/"
        },
        "outputId": "83ad84d6-0926-4d6c-ed96-31360ee48f3f"
      },
      "outputs": [
        {
          "output_type": "stream",
          "name": "stdout",
          "text": [
            "125/125 [==============================] - 48s 377ms/step\n",
            "BERT Accuracy: 0.86225\n",
            "BERT Precision: 0.8432022738038845\n",
            "BERT Recall: 0.89\n"
          ]
        }
      ],
      "source": [
        "predicted = bert_classifier_model.predict(test_data['text'])\n",
        "\n",
        "# Model Accuracy\n",
        "y_test = test_data.label\n",
        "y_pred = predicted.reshape(-1).round()\n",
        "\n",
        "print(\"BERT Accuracy:\",metrics.accuracy_score(y_test, y_pred))\n",
        "print(\"BERT Precision:\",metrics.precision_score(y_test, y_pred))\n",
        "print(\"BERT Recall:\",metrics.recall_score(y_test, y_pred))"
      ]
    }
  ],
  "metadata": {
    "accelerator": "GPU",
    "colab": {
      "provenance": [],
      "include_colab_link": true
    },
    "gpuClass": "standard",
    "kernelspec": {
      "display_name": "Python 3",
      "name": "python3"
    },
    "language_info": {
      "name": "python"
    },
    "widgets": {
      "application/vnd.jupyter.widget-state+json": {
        "d2552509ff334e0281e18c28841fa2e8": {
          "model_module": "@jupyter-widgets/controls",
          "model_name": "HBoxModel",
          "model_module_version": "1.5.0",
          "state": {
            "_dom_classes": [],
            "_model_module": "@jupyter-widgets/controls",
            "_model_module_version": "1.5.0",
            "_model_name": "HBoxModel",
            "_view_count": null,
            "_view_module": "@jupyter-widgets/controls",
            "_view_module_version": "1.5.0",
            "_view_name": "HBoxView",
            "box_style": "",
            "children": [
              "IPY_MODEL_20bc259d86a44766a540a3d97234b3c6",
              "IPY_MODEL_c01df861c8d24354ba40494a33050b81",
              "IPY_MODEL_d7d2faa2132442b4b065be95736c2beb"
            ],
            "layout": "IPY_MODEL_0f10728f64744713ae98128f4f0d9984"
          }
        },
        "20bc259d86a44766a540a3d97234b3c6": {
          "model_module": "@jupyter-widgets/controls",
          "model_name": "HTMLModel",
          "model_module_version": "1.5.0",
          "state": {
            "_dom_classes": [],
            "_model_module": "@jupyter-widgets/controls",
            "_model_module_version": "1.5.0",
            "_model_name": "HTMLModel",
            "_view_count": null,
            "_view_module": "@jupyter-widgets/controls",
            "_view_module_version": "1.5.0",
            "_view_name": "HTMLView",
            "description": "",
            "description_tooltip": null,
            "layout": "IPY_MODEL_3110bfc74e45453f85e335c7419b07ac",
            "placeholder": "​",
            "style": "IPY_MODEL_5a9979eee1e74a9cafde486b86f0b44d",
            "value": ""
          }
        },
        "c01df861c8d24354ba40494a33050b81": {
          "model_module": "@jupyter-widgets/controls",
          "model_name": "FloatProgressModel",
          "model_module_version": "1.5.0",
          "state": {
            "_dom_classes": [],
            "_model_module": "@jupyter-widgets/controls",
            "_model_module_version": "1.5.0",
            "_model_name": "FloatProgressModel",
            "_view_count": null,
            "_view_module": "@jupyter-widgets/controls",
            "_view_module_version": "1.5.0",
            "_view_name": "ProgressView",
            "bar_style": "success",
            "description": "",
            "description_tooltip": null,
            "layout": "IPY_MODEL_9994c0f00b3b47c3b3d7ce3f1d7255f7",
            "max": 1,
            "min": 0,
            "orientation": "horizontal",
            "style": "IPY_MODEL_0eb77cc890cd4b309a3f1eb5ad5efd4d",
            "value": 1
          }
        },
        "d7d2faa2132442b4b065be95736c2beb": {
          "model_module": "@jupyter-widgets/controls",
          "model_name": "HTMLModel",
          "model_module_version": "1.5.0",
          "state": {
            "_dom_classes": [],
            "_model_module": "@jupyter-widgets/controls",
            "_model_module_version": "1.5.0",
            "_model_name": "HTMLModel",
            "_view_count": null,
            "_view_module": "@jupyter-widgets/controls",
            "_view_module_version": "1.5.0",
            "_view_name": "HTMLView",
            "description": "",
            "description_tooltip": null,
            "layout": "IPY_MODEL_c22e9286659f42bb89f6c7e55ebf0d93",
            "placeholder": "​",
            "style": "IPY_MODEL_4ba607a5a2d543439c66c1503f8d7897",
            "value": " 4000/? [00:22&lt;00:00, 194.75it/s]"
          }
        },
        "0f10728f64744713ae98128f4f0d9984": {
          "model_module": "@jupyter-widgets/base",
          "model_name": "LayoutModel",
          "model_module_version": "1.2.0",
          "state": {
            "_model_module": "@jupyter-widgets/base",
            "_model_module_version": "1.2.0",
            "_model_name": "LayoutModel",
            "_view_count": null,
            "_view_module": "@jupyter-widgets/base",
            "_view_module_version": "1.2.0",
            "_view_name": "LayoutView",
            "align_content": null,
            "align_items": null,
            "align_self": null,
            "border": null,
            "bottom": null,
            "display": null,
            "flex": null,
            "flex_flow": null,
            "grid_area": null,
            "grid_auto_columns": null,
            "grid_auto_flow": null,
            "grid_auto_rows": null,
            "grid_column": null,
            "grid_gap": null,
            "grid_row": null,
            "grid_template_areas": null,
            "grid_template_columns": null,
            "grid_template_rows": null,
            "height": null,
            "justify_content": null,
            "justify_items": null,
            "left": null,
            "margin": null,
            "max_height": null,
            "max_width": null,
            "min_height": null,
            "min_width": null,
            "object_fit": null,
            "object_position": null,
            "order": null,
            "overflow": null,
            "overflow_x": null,
            "overflow_y": null,
            "padding": null,
            "right": null,
            "top": null,
            "visibility": null,
            "width": null
          }
        },
        "3110bfc74e45453f85e335c7419b07ac": {
          "model_module": "@jupyter-widgets/base",
          "model_name": "LayoutModel",
          "model_module_version": "1.2.0",
          "state": {
            "_model_module": "@jupyter-widgets/base",
            "_model_module_version": "1.2.0",
            "_model_name": "LayoutModel",
            "_view_count": null,
            "_view_module": "@jupyter-widgets/base",
            "_view_module_version": "1.2.0",
            "_view_name": "LayoutView",
            "align_content": null,
            "align_items": null,
            "align_self": null,
            "border": null,
            "bottom": null,
            "display": null,
            "flex": null,
            "flex_flow": null,
            "grid_area": null,
            "grid_auto_columns": null,
            "grid_auto_flow": null,
            "grid_auto_rows": null,
            "grid_column": null,
            "grid_gap": null,
            "grid_row": null,
            "grid_template_areas": null,
            "grid_template_columns": null,
            "grid_template_rows": null,
            "height": null,
            "justify_content": null,
            "justify_items": null,
            "left": null,
            "margin": null,
            "max_height": null,
            "max_width": null,
            "min_height": null,
            "min_width": null,
            "object_fit": null,
            "object_position": null,
            "order": null,
            "overflow": null,
            "overflow_x": null,
            "overflow_y": null,
            "padding": null,
            "right": null,
            "top": null,
            "visibility": null,
            "width": null
          }
        },
        "5a9979eee1e74a9cafde486b86f0b44d": {
          "model_module": "@jupyter-widgets/controls",
          "model_name": "DescriptionStyleModel",
          "model_module_version": "1.5.0",
          "state": {
            "_model_module": "@jupyter-widgets/controls",
            "_model_module_version": "1.5.0",
            "_model_name": "DescriptionStyleModel",
            "_view_count": null,
            "_view_module": "@jupyter-widgets/base",
            "_view_module_version": "1.2.0",
            "_view_name": "StyleView",
            "description_width": ""
          }
        },
        "9994c0f00b3b47c3b3d7ce3f1d7255f7": {
          "model_module": "@jupyter-widgets/base",
          "model_name": "LayoutModel",
          "model_module_version": "1.2.0",
          "state": {
            "_model_module": "@jupyter-widgets/base",
            "_model_module_version": "1.2.0",
            "_model_name": "LayoutModel",
            "_view_count": null,
            "_view_module": "@jupyter-widgets/base",
            "_view_module_version": "1.2.0",
            "_view_name": "LayoutView",
            "align_content": null,
            "align_items": null,
            "align_self": null,
            "border": null,
            "bottom": null,
            "display": null,
            "flex": null,
            "flex_flow": null,
            "grid_area": null,
            "grid_auto_columns": null,
            "grid_auto_flow": null,
            "grid_auto_rows": null,
            "grid_column": null,
            "grid_gap": null,
            "grid_row": null,
            "grid_template_areas": null,
            "grid_template_columns": null,
            "grid_template_rows": null,
            "height": null,
            "justify_content": null,
            "justify_items": null,
            "left": null,
            "margin": null,
            "max_height": null,
            "max_width": null,
            "min_height": null,
            "min_width": null,
            "object_fit": null,
            "object_position": null,
            "order": null,
            "overflow": null,
            "overflow_x": null,
            "overflow_y": null,
            "padding": null,
            "right": null,
            "top": null,
            "visibility": null,
            "width": "20px"
          }
        },
        "0eb77cc890cd4b309a3f1eb5ad5efd4d": {
          "model_module": "@jupyter-widgets/controls",
          "model_name": "ProgressStyleModel",
          "model_module_version": "1.5.0",
          "state": {
            "_model_module": "@jupyter-widgets/controls",
            "_model_module_version": "1.5.0",
            "_model_name": "ProgressStyleModel",
            "_view_count": null,
            "_view_module": "@jupyter-widgets/base",
            "_view_module_version": "1.2.0",
            "_view_name": "StyleView",
            "bar_color": null,
            "description_width": ""
          }
        },
        "c22e9286659f42bb89f6c7e55ebf0d93": {
          "model_module": "@jupyter-widgets/base",
          "model_name": "LayoutModel",
          "model_module_version": "1.2.0",
          "state": {
            "_model_module": "@jupyter-widgets/base",
            "_model_module_version": "1.2.0",
            "_model_name": "LayoutModel",
            "_view_count": null,
            "_view_module": "@jupyter-widgets/base",
            "_view_module_version": "1.2.0",
            "_view_name": "LayoutView",
            "align_content": null,
            "align_items": null,
            "align_self": null,
            "border": null,
            "bottom": null,
            "display": null,
            "flex": null,
            "flex_flow": null,
            "grid_area": null,
            "grid_auto_columns": null,
            "grid_auto_flow": null,
            "grid_auto_rows": null,
            "grid_column": null,
            "grid_gap": null,
            "grid_row": null,
            "grid_template_areas": null,
            "grid_template_columns": null,
            "grid_template_rows": null,
            "height": null,
            "justify_content": null,
            "justify_items": null,
            "left": null,
            "margin": null,
            "max_height": null,
            "max_width": null,
            "min_height": null,
            "min_width": null,
            "object_fit": null,
            "object_position": null,
            "order": null,
            "overflow": null,
            "overflow_x": null,
            "overflow_y": null,
            "padding": null,
            "right": null,
            "top": null,
            "visibility": null,
            "width": null
          }
        },
        "4ba607a5a2d543439c66c1503f8d7897": {
          "model_module": "@jupyter-widgets/controls",
          "model_name": "DescriptionStyleModel",
          "model_module_version": "1.5.0",
          "state": {
            "_model_module": "@jupyter-widgets/controls",
            "_model_module_version": "1.5.0",
            "_model_name": "DescriptionStyleModel",
            "_view_count": null,
            "_view_module": "@jupyter-widgets/base",
            "_view_module_version": "1.2.0",
            "_view_name": "StyleView",
            "description_width": ""
          }
        }
      }
    }
  },
  "nbformat": 4,
  "nbformat_minor": 0
}